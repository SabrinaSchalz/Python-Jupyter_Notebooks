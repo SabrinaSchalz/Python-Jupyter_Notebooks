{
 "cells": [
  {
   "cell_type": "markdown",
   "id": "f33a05a2",
   "metadata": {},
   "source": [
    "## Calculator Software\n",
    "From tutorial: https://www.youtube.com/watch?v=rfscVS0vtbw"
   ]
  },
  {
   "cell_type": "code",
   "execution_count": 1,
   "id": "c6eef2ce",
   "metadata": {},
   "outputs": [
    {
     "name": "stdout",
     "output_type": "stream",
     "text": [
      "Enter a number: 4\n",
      "Enter a number: 5\n",
      "45\n"
     ]
    }
   ],
   "source": [
    "number1 = input(\"Enter a number: \")\n",
    "number2 = input(\"Enter a number: \")\n",
    "result = number1 + number2\n",
    "print(result)\n",
    "#current result is 45 because python assumes this is a string\n"
   ]
  },
  {
   "cell_type": "code",
   "execution_count": 2,
   "id": "4abf808a",
   "metadata": {},
   "outputs": [
    {
     "name": "stdout",
     "output_type": "stream",
     "text": [
      "Enter a number: 3\n",
      "Enter a number: 2\n",
      "5\n"
     ]
    }
   ],
   "source": [
    "#to make this work, turn number 1 and number 2 into intergers with int()\n",
    "number1 = input(\"Enter a number: \")\n",
    "number2 = input(\"Enter a number: \")\n",
    "result = int(number1) + int(number2)\n",
    "print(result)\n",
    "#but it can currently only do whole numbers because intergers was specified, for decimals we need float"
   ]
  },
  {
   "cell_type": "code",
   "execution_count": 3,
   "id": "86d87f9f",
   "metadata": {
    "scrolled": true
   },
   "outputs": [
    {
     "name": "stdout",
     "output_type": "stream",
     "text": [
      "Enter a number: 3\n",
      "Enter a number: 4\n",
      "7.0\n"
     ]
    }
   ],
   "source": [
    "number1 = input(\"Enter a number: \")\n",
    "number2 = input(\"Enter a number: \")\n",
    "result = float(number1) + float(number2)\n",
    "print(result)"
   ]
  },
  {
   "cell_type": "code",
   "execution_count": 4,
   "id": "0c6006cd",
   "metadata": {},
   "outputs": [
    {
     "name": "stdout",
     "output_type": "stream",
     "text": [
      "Enter a number: 25\n",
      "Enter operator: /\n",
      "Enter a number: 5\n",
      "5.0\n"
     ]
    }
   ],
   "source": [
    "number1 = float(input(\"Enter a number: \"))\n",
    "operator = input(\"Enter operator: \")\n",
    "number2 = float(input(\"Enter a number: \"))\n",
    "if operator == \"+\":\n",
    "    print(number1 + number2)\n",
    "elif operator == \"-\":\n",
    "    print(number1 - number2)\n",
    "elif operator == \"*\":\n",
    "    print(number1 * number2)\n",
    "elif operator == \"/\":\n",
    "    print(number1 / number2)\n",
    "else:\n",
    "    print(\"I don't understand\")"
   ]
  }
 ],
 "metadata": {
  "kernelspec": {
   "display_name": "Python 3 (ipykernel)",
   "language": "python",
   "name": "python3"
  },
  "language_info": {
   "codemirror_mode": {
    "name": "ipython",
    "version": 3
   },
   "file_extension": ".py",
   "mimetype": "text/x-python",
   "name": "python",
   "nbconvert_exporter": "python",
   "pygments_lexer": "ipython3",
   "version": "3.9.12"
  }
 },
 "nbformat": 4,
 "nbformat_minor": 5
}
