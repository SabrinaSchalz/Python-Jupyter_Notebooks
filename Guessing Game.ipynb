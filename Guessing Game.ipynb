{
 "cells": [
  {
   "cell_type": "code",
   "execution_count": 2,
   "id": "a190bfbf",
   "metadata": {},
   "outputs": [
    {
     "name": "stdout",
     "output_type": "stream",
     "text": [
      "Enter guess: giraffe\n",
      "Enter guess: where\n",
      "Enter guess: alter\n",
      "Enter guess: puma\n",
      "Well done\n"
     ]
    }
   ],
   "source": [
    "secret_word = \"puma\"\n",
    "guess = \"\" #stores the latest guess\n",
    "while secret_word != guess:\n",
    "    guess = input(\"Enter guess: \")\n",
    "\n",
    "print(\"Well done\")"
   ]
  },
  {
   "cell_type": "code",
   "execution_count": 5,
   "id": "a1d5da60",
   "metadata": {
    "scrolled": true
   },
   "outputs": [
    {
     "name": "stdout",
     "output_type": "stream",
     "text": [
      "Enter guess: lama\n",
      "Enter guess: tree\n",
      "Enter guess: bird\n",
      "Out of luck\n"
     ]
    }
   ],
   "source": [
    "#include a limit of guesses\n",
    "secret_word = \"puma\"\n",
    "guess = \"\" \n",
    "count = 0\n",
    "limit = 3\n",
    "out_of_guesses = False\n",
    "\n",
    "while secret_word != guess and out_of_guesses == False:\n",
    "    if count < limit:\n",
    "        guess = input(\"Enter guess: \")\n",
    "        count = count + 1\n",
    "    else:\n",
    "        out_of_guesses = True\n",
    "\n",
    "if out_of_guesses == True:\n",
    "    print(\"Out of luck\")\n",
    "else:\n",
    "    print(\"Well done\")"
   ]
  },
  {
   "cell_type": "markdown",
   "id": "5a0d4658",
   "metadata": {},
   "source": [
    "Number Guessing"
   ]
  },
  {
   "cell_type": "code",
   "execution_count": 14,
   "id": "b1b13d4f",
   "metadata": {},
   "outputs": [
    {
     "name": "stdout",
     "output_type": "stream",
     "text": [
      "Guess a number5\n",
      "5\n",
      "sorry, too high\n",
      "Guess a number4\n",
      "4\n",
      "Correct Number\n"
     ]
    }
   ],
   "source": [
    "def guess(x):\n",
    "    random_number = random.randint(1, x)\n",
    "    guess = 0\n",
    "    while guess != random_number: \n",
    "        guess = int(input(\"Guess a number\"))\n",
    "        print(guess)\n",
    "        if guess < random_number:\n",
    "            print(\"sorry, too low\")\n",
    "        elif guess > random_number:\n",
    "            print(\"sorry, too high\")\n",
    "    print(\"Correct Number\")\n",
    "guess(10)"
   ]
  }
 ],
 "metadata": {
  "kernelspec": {
   "display_name": "Python 3 (ipykernel)",
   "language": "python",
   "name": "python3"
  },
  "language_info": {
   "codemirror_mode": {
    "name": "ipython",
    "version": 3
   },
   "file_extension": ".py",
   "mimetype": "text/x-python",
   "name": "python",
   "nbconvert_exporter": "python",
   "pygments_lexer": "ipython3",
   "version": "3.9.12"
  }
 },
 "nbformat": 4,
 "nbformat_minor": 5
}
