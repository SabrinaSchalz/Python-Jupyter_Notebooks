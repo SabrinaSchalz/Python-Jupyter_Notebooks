{
 "cells": [
  {
   "cell_type": "code",
   "execution_count": 1,
   "id": "ef2121f6",
   "metadata": {},
   "outputs": [],
   "source": [
    "#Import libraries\n",
    "import pandas as pd\n",
    "import numpy as np\n",
    "import seaborn as sns\n",
    "import matplotlib\n",
    "import matplotlib.pyplot as plt\n",
    "plt.style.use(\"ggplot\")\n",
    "from matplotlib.pyplot import figure\n",
    "\n",
    "%matplotlib inline\n",
    "matplotlib.rcParams[\"figure.figsize\"] = (12,8)"
   ]
  },
  {
   "cell_type": "code",
   "execution_count": 2,
   "id": "bc369a48",
   "metadata": {},
   "outputs": [
    {
     "data": {
      "text/html": [
       "<div>\n",
       "<style scoped>\n",
       "    .dataframe tbody tr th:only-of-type {\n",
       "        vertical-align: middle;\n",
       "    }\n",
       "\n",
       "    .dataframe tbody tr th {\n",
       "        vertical-align: top;\n",
       "    }\n",
       "\n",
       "    .dataframe thead th {\n",
       "        text-align: right;\n",
       "    }\n",
       "</style>\n",
       "<table border=\"1\" class=\"dataframe\">\n",
       "  <thead>\n",
       "    <tr style=\"text-align: right;\">\n",
       "      <th></th>\n",
       "      <th>PassengerId</th>\n",
       "      <th>HomePlanet</th>\n",
       "      <th>CryoSleep</th>\n",
       "      <th>Cabin</th>\n",
       "      <th>Destination</th>\n",
       "      <th>Age</th>\n",
       "      <th>VIP</th>\n",
       "      <th>RoomService</th>\n",
       "      <th>FoodCourt</th>\n",
       "      <th>ShoppingMall</th>\n",
       "      <th>Spa</th>\n",
       "      <th>VRDeck</th>\n",
       "      <th>Name</th>\n",
       "      <th>Transported</th>\n",
       "    </tr>\n",
       "  </thead>\n",
       "  <tbody>\n",
       "    <tr>\n",
       "      <th>0</th>\n",
       "      <td>0001_01</td>\n",
       "      <td>Europa</td>\n",
       "      <td>False</td>\n",
       "      <td>B/0/P</td>\n",
       "      <td>TRAPPIST-1e</td>\n",
       "      <td>39.0</td>\n",
       "      <td>False</td>\n",
       "      <td>0.0</td>\n",
       "      <td>0.0</td>\n",
       "      <td>0.0</td>\n",
       "      <td>0.0</td>\n",
       "      <td>0.0</td>\n",
       "      <td>Maham Ofracculy</td>\n",
       "      <td>False</td>\n",
       "    </tr>\n",
       "    <tr>\n",
       "      <th>1</th>\n",
       "      <td>0002_01</td>\n",
       "      <td>Earth</td>\n",
       "      <td>False</td>\n",
       "      <td>F/0/S</td>\n",
       "      <td>TRAPPIST-1e</td>\n",
       "      <td>24.0</td>\n",
       "      <td>False</td>\n",
       "      <td>109.0</td>\n",
       "      <td>9.0</td>\n",
       "      <td>25.0</td>\n",
       "      <td>549.0</td>\n",
       "      <td>44.0</td>\n",
       "      <td>Juanna Vines</td>\n",
       "      <td>True</td>\n",
       "    </tr>\n",
       "    <tr>\n",
       "      <th>2</th>\n",
       "      <td>0003_01</td>\n",
       "      <td>Europa</td>\n",
       "      <td>False</td>\n",
       "      <td>A/0/S</td>\n",
       "      <td>TRAPPIST-1e</td>\n",
       "      <td>58.0</td>\n",
       "      <td>True</td>\n",
       "      <td>43.0</td>\n",
       "      <td>3576.0</td>\n",
       "      <td>0.0</td>\n",
       "      <td>6715.0</td>\n",
       "      <td>49.0</td>\n",
       "      <td>Altark Susent</td>\n",
       "      <td>False</td>\n",
       "    </tr>\n",
       "    <tr>\n",
       "      <th>3</th>\n",
       "      <td>0003_02</td>\n",
       "      <td>Europa</td>\n",
       "      <td>False</td>\n",
       "      <td>A/0/S</td>\n",
       "      <td>TRAPPIST-1e</td>\n",
       "      <td>33.0</td>\n",
       "      <td>False</td>\n",
       "      <td>0.0</td>\n",
       "      <td>1283.0</td>\n",
       "      <td>371.0</td>\n",
       "      <td>3329.0</td>\n",
       "      <td>193.0</td>\n",
       "      <td>Solam Susent</td>\n",
       "      <td>False</td>\n",
       "    </tr>\n",
       "    <tr>\n",
       "      <th>4</th>\n",
       "      <td>0004_01</td>\n",
       "      <td>Earth</td>\n",
       "      <td>False</td>\n",
       "      <td>F/1/S</td>\n",
       "      <td>TRAPPIST-1e</td>\n",
       "      <td>16.0</td>\n",
       "      <td>False</td>\n",
       "      <td>303.0</td>\n",
       "      <td>70.0</td>\n",
       "      <td>151.0</td>\n",
       "      <td>565.0</td>\n",
       "      <td>2.0</td>\n",
       "      <td>Willy Santantines</td>\n",
       "      <td>True</td>\n",
       "    </tr>\n",
       "  </tbody>\n",
       "</table>\n",
       "</div>"
      ],
      "text/plain": [
       "  PassengerId HomePlanet CryoSleep  Cabin  Destination   Age    VIP  \\\n",
       "0     0001_01     Europa     False  B/0/P  TRAPPIST-1e  39.0  False   \n",
       "1     0002_01      Earth     False  F/0/S  TRAPPIST-1e  24.0  False   \n",
       "2     0003_01     Europa     False  A/0/S  TRAPPIST-1e  58.0   True   \n",
       "3     0003_02     Europa     False  A/0/S  TRAPPIST-1e  33.0  False   \n",
       "4     0004_01      Earth     False  F/1/S  TRAPPIST-1e  16.0  False   \n",
       "\n",
       "   RoomService  FoodCourt  ShoppingMall     Spa  VRDeck               Name  \\\n",
       "0          0.0        0.0           0.0     0.0     0.0    Maham Ofracculy   \n",
       "1        109.0        9.0          25.0   549.0    44.0       Juanna Vines   \n",
       "2         43.0     3576.0           0.0  6715.0    49.0      Altark Susent   \n",
       "3          0.0     1283.0         371.0  3329.0   193.0       Solam Susent   \n",
       "4        303.0       70.0         151.0   565.0     2.0  Willy Santantines   \n",
       "\n",
       "   Transported  \n",
       "0        False  \n",
       "1         True  \n",
       "2        False  \n",
       "3        False  \n",
       "4         True  "
      ]
     },
     "execution_count": 2,
     "metadata": {},
     "output_type": "execute_result"
    }
   ],
   "source": [
    "df = pd.read_csv(\"spaceship_train.csv\")\n",
    "test = pd.read_csv(\"spaceship_test.csv\")\n",
    "df.head()"
   ]
  },
  {
   "cell_type": "code",
   "execution_count": 3,
   "id": "72f15818",
   "metadata": {
    "scrolled": true
   },
   "outputs": [
    {
     "name": "stdout",
     "output_type": "stream",
     "text": [
      "<class 'pandas.core.frame.DataFrame'>\n",
      "RangeIndex: 8693 entries, 0 to 8692\n",
      "Data columns (total 14 columns):\n",
      " #   Column        Non-Null Count  Dtype  \n",
      "---  ------        --------------  -----  \n",
      " 0   PassengerId   8693 non-null   object \n",
      " 1   HomePlanet    8492 non-null   object \n",
      " 2   CryoSleep     8476 non-null   object \n",
      " 3   Cabin         8494 non-null   object \n",
      " 4   Destination   8511 non-null   object \n",
      " 5   Age           8514 non-null   float64\n",
      " 6   VIP           8490 non-null   object \n",
      " 7   RoomService   8512 non-null   float64\n",
      " 8   FoodCourt     8510 non-null   float64\n",
      " 9   ShoppingMall  8485 non-null   float64\n",
      " 10  Spa           8510 non-null   float64\n",
      " 11  VRDeck        8505 non-null   float64\n",
      " 12  Name          8493 non-null   object \n",
      " 13  Transported   8693 non-null   bool   \n",
      "dtypes: bool(1), float64(6), object(7)\n",
      "memory usage: 891.5+ KB\n"
     ]
    }
   ],
   "source": [
    "df.info()"
   ]
  },
  {
   "cell_type": "code",
   "execution_count": 4,
   "id": "6dca393b",
   "metadata": {},
   "outputs": [
    {
     "data": {
      "text/plain": [
       "Earth     4602\n",
       "Europa    2131\n",
       "Mars      1759\n",
       "Name: HomePlanet, dtype: int64"
      ]
     },
     "execution_count": 4,
     "metadata": {},
     "output_type": "execute_result"
    }
   ],
   "source": [
    "df['HomePlanet'].value_counts()\n",
    "#this shouldn't allow any NA"
   ]
  },
  {
   "cell_type": "code",
   "execution_count": 5,
   "id": "6b8e6c1c",
   "metadata": {},
   "outputs": [
    {
     "data": {
      "text/plain": [
       "False    5439\n",
       "True     3037\n",
       "Name: CryoSleep, dtype: int64"
      ]
     },
     "execution_count": 5,
     "metadata": {},
     "output_type": "execute_result"
    }
   ],
   "source": [
    "df['CryoSleep'].value_counts()\n",
    "#this shouldn't allow any NA"
   ]
  },
  {
   "cell_type": "code",
   "execution_count": 6,
   "id": "622ea6e2",
   "metadata": {},
   "outputs": [
    {
     "data": {
      "text/plain": [
       "G/734/S     8\n",
       "G/109/P     7\n",
       "B/201/P     7\n",
       "G/1368/P    7\n",
       "G/981/S     7\n",
       "           ..\n",
       "G/556/P     1\n",
       "E/231/S     1\n",
       "G/545/S     1\n",
       "G/543/S     1\n",
       "F/947/P     1\n",
       "Name: Cabin, Length: 6560, dtype: int64"
      ]
     },
     "execution_count": 6,
     "metadata": {},
     "output_type": "execute_result"
    }
   ],
   "source": [
    "df['Cabin'].value_counts()\n",
    "#Takes the form deck/num/side, where side can be either P for Port or S for Starboard. Remove the other info in it"
   ]
  },
  {
   "cell_type": "code",
   "execution_count": 7,
   "id": "6a65d48a",
   "metadata": {},
   "outputs": [],
   "source": [
    "df['Cabin'] = df['Cabin'].str[2:]"
   ]
  },
  {
   "cell_type": "code",
   "execution_count": 8,
   "id": "0a7f7294",
   "metadata": {},
   "outputs": [],
   "source": [
    "df['Cabin'] = df['Cabin'].str.split('/', n=1).str.get(-1)"
   ]
  },
  {
   "cell_type": "code",
   "execution_count": 9,
   "id": "92eccff9",
   "metadata": {},
   "outputs": [
    {
     "data": {
      "text/plain": [
       "S    4288\n",
       "P    4206\n",
       "Name: Cabin, dtype: int64"
      ]
     },
     "execution_count": 9,
     "metadata": {},
     "output_type": "execute_result"
    }
   ],
   "source": [
    "df['Cabin'].value_counts()"
   ]
  },
  {
   "cell_type": "code",
   "execution_count": 10,
   "id": "a7b66cf1",
   "metadata": {},
   "outputs": [
    {
     "data": {
      "text/plain": [
       "TRAPPIST-1e      5915\n",
       "55 Cancri e      1800\n",
       "PSO J318.5-22     796\n",
       "Name: Destination, dtype: int64"
      ]
     },
     "execution_count": 10,
     "metadata": {},
     "output_type": "execute_result"
    }
   ],
   "source": [
    "df['Destination'].value_counts()\n",
    "#this would benefit from simpler wording"
   ]
  },
  {
   "cell_type": "code",
   "execution_count": 11,
   "id": "79adf8a6",
   "metadata": {},
   "outputs": [],
   "source": [
    "df['Destination'] = df['Destination'].replace('TRAPPIST-1e', 'T')\n",
    "df['Destination'] = df['Destination'].replace('55 Cancri e', 'C')\n",
    "df['Destination'] = df['Destination'].replace('PSO J318.5-22', 'P')"
   ]
  },
  {
   "cell_type": "code",
   "execution_count": 12,
   "id": "a35dcbc8",
   "metadata": {},
   "outputs": [
    {
     "data": {
      "text/plain": [
       "T    5915\n",
       "C    1800\n",
       "P     796\n",
       "Name: Destination, dtype: int64"
      ]
     },
     "execution_count": 12,
     "metadata": {},
     "output_type": "execute_result"
    }
   ],
   "source": [
    "df['Destination'].value_counts()"
   ]
  },
  {
   "cell_type": "code",
   "execution_count": 13,
   "id": "c4c51793",
   "metadata": {},
   "outputs": [
    {
     "data": {
      "text/plain": [
       "False    8291\n",
       "True      199\n",
       "Name: VIP, dtype: int64"
      ]
     },
     "execution_count": 13,
     "metadata": {},
     "output_type": "execute_result"
    }
   ],
   "source": [
    "df['VIP'].value_counts()\n",
    "#this is probably comparable to class in the original titanic competition, which was very relevant"
   ]
  },
  {
   "cell_type": "code",
   "execution_count": 14,
   "id": "88ca6b3c",
   "metadata": {
    "scrolled": true
   },
   "outputs": [
    {
     "data": {
      "text/plain": [
       "0.0       5577\n",
       "1.0        117\n",
       "2.0         79\n",
       "3.0         61\n",
       "4.0         47\n",
       "          ... \n",
       "1612.0       1\n",
       "2598.0       1\n",
       "632.0        1\n",
       "378.0        1\n",
       "745.0        1\n",
       "Name: RoomService, Length: 1273, dtype: int64"
      ]
     },
     "execution_count": 14,
     "metadata": {},
     "output_type": "execute_result"
    }
   ],
   "source": [
    "df['RoomService'].value_counts()\n",
    "#Amount the passenger has billed at each of the Spaceship Titanics many luxury amenities.\n",
    "#Same for FoodCourt, ShoppingMall, Spa, VRDeck"
   ]
  },
  {
   "cell_type": "code",
   "execution_count": 15,
   "id": "b69651d5",
   "metadata": {},
   "outputs": [],
   "source": [
    "df = df.drop(['Name'], axis=1)\n",
    "#name should not be relevant"
   ]
  },
  {
   "cell_type": "code",
   "execution_count": 16,
   "id": "81111ad9",
   "metadata": {},
   "outputs": [
    {
     "data": {
      "text/plain": [
       "True"
      ]
     },
     "execution_count": 16,
     "metadata": {},
     "output_type": "execute_result"
    }
   ],
   "source": [
    "df.isnull().values.any()"
   ]
  },
  {
   "cell_type": "code",
   "execution_count": 17,
   "id": "074f9ef2",
   "metadata": {},
   "outputs": [
    {
     "name": "stdout",
     "output_type": "stream",
     "text": [
      "PassengerId 0.0\n",
      "HomePlanet 0.023122052225928908\n",
      "CryoSleep 0.02496261359714713\n",
      "Cabin 0.02289198205452663\n",
      "Destination 0.02093638559760727\n",
      "Age 0.020591280340503854\n",
      "VIP 0.023352122397331185\n",
      "RoomService 0.02082135051190613\n",
      "FoodCourt 0.021051420683308408\n",
      "ShoppingMall 0.02392729782583688\n",
      "Spa 0.021051420683308408\n",
      "VRDeck 0.021626596111814105\n",
      "Transported 0.0\n"
     ]
    }
   ],
   "source": [
    "for col in df.columns:\n",
    "    missing_data = np.mean(df[col].isnull())\n",
    "    print(col,missing_data)\n",
    "\n",
    "#some msising data in all but passengerID and Transported, need to get those IDs"
   ]
  },
  {
   "cell_type": "code",
   "execution_count": 18,
   "id": "935bdf3d",
   "metadata": {
    "scrolled": true
   },
   "outputs": [
    {
     "data": {
      "text/html": [
       "<div>\n",
       "<style scoped>\n",
       "    .dataframe tbody tr th:only-of-type {\n",
       "        vertical-align: middle;\n",
       "    }\n",
       "\n",
       "    .dataframe tbody tr th {\n",
       "        vertical-align: top;\n",
       "    }\n",
       "\n",
       "    .dataframe thead th {\n",
       "        text-align: right;\n",
       "    }\n",
       "</style>\n",
       "<table border=\"1\" class=\"dataframe\">\n",
       "  <thead>\n",
       "    <tr style=\"text-align: right;\">\n",
       "      <th></th>\n",
       "      <th>PassengerId</th>\n",
       "      <th>HomePlanet</th>\n",
       "      <th>CryoSleep</th>\n",
       "      <th>Cabin</th>\n",
       "      <th>Destination</th>\n",
       "      <th>Age</th>\n",
       "      <th>VIP</th>\n",
       "      <th>RoomService</th>\n",
       "      <th>FoodCourt</th>\n",
       "      <th>ShoppingMall</th>\n",
       "      <th>Spa</th>\n",
       "      <th>VRDeck</th>\n",
       "      <th>Transported</th>\n",
       "    </tr>\n",
       "  </thead>\n",
       "  <tbody>\n",
       "    <tr>\n",
       "      <th>7</th>\n",
       "      <td>0006_02</td>\n",
       "      <td>Earth</td>\n",
       "      <td>True</td>\n",
       "      <td>S</td>\n",
       "      <td>T</td>\n",
       "      <td>28.0</td>\n",
       "      <td>False</td>\n",
       "      <td>0.0</td>\n",
       "      <td>0.0</td>\n",
       "      <td>0.0</td>\n",
       "      <td>0.0</td>\n",
       "      <td>NaN</td>\n",
       "      <td>True</td>\n",
       "    </tr>\n",
       "    <tr>\n",
       "      <th>10</th>\n",
       "      <td>0008_02</td>\n",
       "      <td>Europa</td>\n",
       "      <td>True</td>\n",
       "      <td>P</td>\n",
       "      <td>T</td>\n",
       "      <td>34.0</td>\n",
       "      <td>False</td>\n",
       "      <td>0.0</td>\n",
       "      <td>0.0</td>\n",
       "      <td>NaN</td>\n",
       "      <td>0.0</td>\n",
       "      <td>0.0</td>\n",
       "      <td>True</td>\n",
       "    </tr>\n",
       "    <tr>\n",
       "      <th>15</th>\n",
       "      <td>0012_01</td>\n",
       "      <td>Earth</td>\n",
       "      <td>False</td>\n",
       "      <td>NaN</td>\n",
       "      <td>T</td>\n",
       "      <td>31.0</td>\n",
       "      <td>False</td>\n",
       "      <td>32.0</td>\n",
       "      <td>0.0</td>\n",
       "      <td>876.0</td>\n",
       "      <td>0.0</td>\n",
       "      <td>0.0</td>\n",
       "      <td>False</td>\n",
       "    </tr>\n",
       "    <tr>\n",
       "      <th>16</th>\n",
       "      <td>0014_01</td>\n",
       "      <td>Mars</td>\n",
       "      <td>False</td>\n",
       "      <td>P</td>\n",
       "      <td>C</td>\n",
       "      <td>27.0</td>\n",
       "      <td>False</td>\n",
       "      <td>1286.0</td>\n",
       "      <td>122.0</td>\n",
       "      <td>NaN</td>\n",
       "      <td>0.0</td>\n",
       "      <td>0.0</td>\n",
       "      <td>False</td>\n",
       "    </tr>\n",
       "    <tr>\n",
       "      <th>23</th>\n",
       "      <td>0020_03</td>\n",
       "      <td>Earth</td>\n",
       "      <td>True</td>\n",
       "      <td>S</td>\n",
       "      <td>C</td>\n",
       "      <td>29.0</td>\n",
       "      <td>False</td>\n",
       "      <td>0.0</td>\n",
       "      <td>0.0</td>\n",
       "      <td>NaN</td>\n",
       "      <td>0.0</td>\n",
       "      <td>0.0</td>\n",
       "      <td>False</td>\n",
       "    </tr>\n",
       "    <tr>\n",
       "      <th>...</th>\n",
       "      <td>...</td>\n",
       "      <td>...</td>\n",
       "      <td>...</td>\n",
       "      <td>...</td>\n",
       "      <td>...</td>\n",
       "      <td>...</td>\n",
       "      <td>...</td>\n",
       "      <td>...</td>\n",
       "      <td>...</td>\n",
       "      <td>...</td>\n",
       "      <td>...</td>\n",
       "      <td>...</td>\n",
       "      <td>...</td>\n",
       "    </tr>\n",
       "    <tr>\n",
       "      <th>8667</th>\n",
       "      <td>9250_01</td>\n",
       "      <td>Europa</td>\n",
       "      <td>False</td>\n",
       "      <td>P</td>\n",
       "      <td>T</td>\n",
       "      <td>29.0</td>\n",
       "      <td>False</td>\n",
       "      <td>0.0</td>\n",
       "      <td>2972.0</td>\n",
       "      <td>NaN</td>\n",
       "      <td>28.0</td>\n",
       "      <td>188.0</td>\n",
       "      <td>True</td>\n",
       "    </tr>\n",
       "    <tr>\n",
       "      <th>8674</th>\n",
       "      <td>9257_01</td>\n",
       "      <td>NaN</td>\n",
       "      <td>False</td>\n",
       "      <td>P</td>\n",
       "      <td>T</td>\n",
       "      <td>13.0</td>\n",
       "      <td>False</td>\n",
       "      <td>39.0</td>\n",
       "      <td>0.0</td>\n",
       "      <td>1085.0</td>\n",
       "      <td>24.0</td>\n",
       "      <td>0.0</td>\n",
       "      <td>False</td>\n",
       "    </tr>\n",
       "    <tr>\n",
       "      <th>8675</th>\n",
       "      <td>9259_01</td>\n",
       "      <td>Earth</td>\n",
       "      <td>NaN</td>\n",
       "      <td>P</td>\n",
       "      <td>T</td>\n",
       "      <td>44.0</td>\n",
       "      <td>False</td>\n",
       "      <td>1030.0</td>\n",
       "      <td>1015.0</td>\n",
       "      <td>0.0</td>\n",
       "      <td>11.0</td>\n",
       "      <td>NaN</td>\n",
       "      <td>True</td>\n",
       "    </tr>\n",
       "    <tr>\n",
       "      <th>8684</th>\n",
       "      <td>9274_01</td>\n",
       "      <td>NaN</td>\n",
       "      <td>True</td>\n",
       "      <td>P</td>\n",
       "      <td>T</td>\n",
       "      <td>23.0</td>\n",
       "      <td>False</td>\n",
       "      <td>0.0</td>\n",
       "      <td>0.0</td>\n",
       "      <td>0.0</td>\n",
       "      <td>0.0</td>\n",
       "      <td>0.0</td>\n",
       "      <td>True</td>\n",
       "    </tr>\n",
       "    <tr>\n",
       "      <th>8687</th>\n",
       "      <td>9275_03</td>\n",
       "      <td>Europa</td>\n",
       "      <td>NaN</td>\n",
       "      <td>P</td>\n",
       "      <td>T</td>\n",
       "      <td>30.0</td>\n",
       "      <td>False</td>\n",
       "      <td>0.0</td>\n",
       "      <td>3208.0</td>\n",
       "      <td>0.0</td>\n",
       "      <td>2.0</td>\n",
       "      <td>330.0</td>\n",
       "      <td>True</td>\n",
       "    </tr>\n",
       "  </tbody>\n",
       "</table>\n",
       "<p>1929 rows × 13 columns</p>\n",
       "</div>"
      ],
      "text/plain": [
       "     PassengerId HomePlanet CryoSleep Cabin Destination   Age    VIP  \\\n",
       "7        0006_02      Earth      True     S           T  28.0  False   \n",
       "10       0008_02     Europa      True     P           T  34.0  False   \n",
       "15       0012_01      Earth     False   NaN           T  31.0  False   \n",
       "16       0014_01       Mars     False     P           C  27.0  False   \n",
       "23       0020_03      Earth      True     S           C  29.0  False   \n",
       "...          ...        ...       ...   ...         ...   ...    ...   \n",
       "8667     9250_01     Europa     False     P           T  29.0  False   \n",
       "8674     9257_01        NaN     False     P           T  13.0  False   \n",
       "8675     9259_01      Earth       NaN     P           T  44.0  False   \n",
       "8684     9274_01        NaN      True     P           T  23.0  False   \n",
       "8687     9275_03     Europa       NaN     P           T  30.0  False   \n",
       "\n",
       "      RoomService  FoodCourt  ShoppingMall   Spa  VRDeck  Transported  \n",
       "7             0.0        0.0           0.0   0.0     NaN         True  \n",
       "10            0.0        0.0           NaN   0.0     0.0         True  \n",
       "15           32.0        0.0         876.0   0.0     0.0        False  \n",
       "16         1286.0      122.0           NaN   0.0     0.0        False  \n",
       "23            0.0        0.0           NaN   0.0     0.0        False  \n",
       "...           ...        ...           ...   ...     ...          ...  \n",
       "8667          0.0     2972.0           NaN  28.0   188.0         True  \n",
       "8674         39.0        0.0        1085.0  24.0     0.0        False  \n",
       "8675       1030.0     1015.0           0.0  11.0     NaN         True  \n",
       "8684          0.0        0.0           0.0   0.0     0.0         True  \n",
       "8687          0.0     3208.0           0.0   2.0   330.0         True  \n",
       "\n",
       "[1929 rows x 13 columns]"
      ]
     },
     "execution_count": 18,
     "metadata": {},
     "output_type": "execute_result"
    }
   ],
   "source": [
    "df[df.isna().any(axis=1)]\n",
    "#HomePlanet, Age, and  Destination should not have any NaNs, will exclude them.\n",
    "#Replace NaN in VIP and CryoSleep with False\n",
    "#Not having a Cabin is reasonable\n",
    "#Convert NaN in the spending columns to 0"
   ]
  },
  {
   "cell_type": "code",
   "execution_count": 19,
   "id": "7511dc72",
   "metadata": {},
   "outputs": [],
   "source": [
    "df = df[df['HomePlanet'].notna()]\n",
    "df = df[df['Age'].notna()]\n",
    "df = df[df['Destination'].notna()]"
   ]
  },
  {
   "cell_type": "code",
   "execution_count": 20,
   "id": "695f050b",
   "metadata": {},
   "outputs": [],
   "source": [
    "df['CryoSleep'] = df['CryoSleep'].fillna(False)\n",
    "df['VIP'] = df['VIP'].fillna(False)\n",
    "df['RoomService'] = df['RoomService'].fillna(0)\n",
    "df['FoodCourt'] = df['FoodCourt'].fillna(0)\n",
    "df['ShoppingMall'] = df['ShoppingMall'].fillna(0)\n",
    "df['Spa'] = df['Spa'].fillna(0)\n",
    "df['VRDeck'] = df['VRDeck'].fillna(0)\n",
    "df['Cabin'] = df['Cabin'].fillna('None')"
   ]
  },
  {
   "cell_type": "code",
   "execution_count": 21,
   "id": "b29d1640",
   "metadata": {
    "scrolled": true
   },
   "outputs": [
    {
     "data": {
      "text/html": [
       "<div>\n",
       "<style scoped>\n",
       "    .dataframe tbody tr th:only-of-type {\n",
       "        vertical-align: middle;\n",
       "    }\n",
       "\n",
       "    .dataframe tbody tr th {\n",
       "        vertical-align: top;\n",
       "    }\n",
       "\n",
       "    .dataframe thead th {\n",
       "        text-align: right;\n",
       "    }\n",
       "</style>\n",
       "<table border=\"1\" class=\"dataframe\">\n",
       "  <thead>\n",
       "    <tr style=\"text-align: right;\">\n",
       "      <th></th>\n",
       "      <th>PassengerId</th>\n",
       "      <th>HomePlanet</th>\n",
       "      <th>CryoSleep</th>\n",
       "      <th>Cabin</th>\n",
       "      <th>Destination</th>\n",
       "      <th>Age</th>\n",
       "      <th>VIP</th>\n",
       "      <th>RoomService</th>\n",
       "      <th>FoodCourt</th>\n",
       "      <th>ShoppingMall</th>\n",
       "      <th>Spa</th>\n",
       "      <th>VRDeck</th>\n",
       "      <th>Transported</th>\n",
       "    </tr>\n",
       "  </thead>\n",
       "  <tbody>\n",
       "  </tbody>\n",
       "</table>\n",
       "</div>"
      ],
      "text/plain": [
       "Empty DataFrame\n",
       "Columns: [PassengerId, HomePlanet, CryoSleep, Cabin, Destination, Age, VIP, RoomService, FoodCourt, ShoppingMall, Spa, VRDeck, Transported]\n",
       "Index: []"
      ]
     },
     "execution_count": 21,
     "metadata": {},
     "output_type": "execute_result"
    }
   ],
   "source": [
    "df[df.isna().any(axis=1)]"
   ]
  },
  {
   "cell_type": "code",
   "execution_count": 22,
   "id": "36fb9bcc",
   "metadata": {},
   "outputs": [
    {
     "data": {
      "text/html": [
       "<div>\n",
       "<style scoped>\n",
       "    .dataframe tbody tr th:only-of-type {\n",
       "        vertical-align: middle;\n",
       "    }\n",
       "\n",
       "    .dataframe tbody tr th {\n",
       "        vertical-align: top;\n",
       "    }\n",
       "\n",
       "    .dataframe thead th {\n",
       "        text-align: right;\n",
       "    }\n",
       "</style>\n",
       "<table border=\"1\" class=\"dataframe\">\n",
       "  <thead>\n",
       "    <tr style=\"text-align: right;\">\n",
       "      <th>Transported</th>\n",
       "      <th>False</th>\n",
       "      <th>True</th>\n",
       "    </tr>\n",
       "    <tr>\n",
       "      <th>HomePlanet</th>\n",
       "      <th></th>\n",
       "      <th></th>\n",
       "    </tr>\n",
       "  </thead>\n",
       "  <tbody>\n",
       "    <tr>\n",
       "      <th>Earth</th>\n",
       "      <td>2540</td>\n",
       "      <td>1875</td>\n",
       "    </tr>\n",
       "    <tr>\n",
       "      <th>Europa</th>\n",
       "      <td>699</td>\n",
       "      <td>1350</td>\n",
       "    </tr>\n",
       "    <tr>\n",
       "      <th>Mars</th>\n",
       "      <td>801</td>\n",
       "      <td>875</td>\n",
       "    </tr>\n",
       "  </tbody>\n",
       "</table>\n",
       "</div>"
      ],
      "text/plain": [
       "Transported  False  True\n",
       "HomePlanet              \n",
       "Earth         2540  1875\n",
       "Europa         699  1350\n",
       "Mars           801   875"
      ]
     },
     "execution_count": 22,
     "metadata": {},
     "output_type": "execute_result"
    }
   ],
   "source": [
    "df[\"Count\"] = 1\n",
    "p = pd.pivot_table(df, values=\"Count\", index='HomePlanet', columns='Transported',\n",
    "                          aggfunc='count')\n",
    "p\n",
    "#50/50 for Mars, better odds for Europa, worse odds for Earth"
   ]
  },
  {
   "cell_type": "code",
   "execution_count": 23,
   "id": "0fcc78fe",
   "metadata": {},
   "outputs": [
    {
     "data": {
      "text/html": [
       "<div>\n",
       "<style scoped>\n",
       "    .dataframe tbody tr th:only-of-type {\n",
       "        vertical-align: middle;\n",
       "    }\n",
       "\n",
       "    .dataframe tbody tr th {\n",
       "        vertical-align: top;\n",
       "    }\n",
       "\n",
       "    .dataframe thead th {\n",
       "        text-align: right;\n",
       "    }\n",
       "</style>\n",
       "<table border=\"1\" class=\"dataframe\">\n",
       "  <thead>\n",
       "    <tr style=\"text-align: right;\">\n",
       "      <th>Transported</th>\n",
       "      <th>False</th>\n",
       "      <th>True</th>\n",
       "    </tr>\n",
       "    <tr>\n",
       "      <th>VIP</th>\n",
       "      <th></th>\n",
       "      <th></th>\n",
       "    </tr>\n",
       "  </thead>\n",
       "  <tbody>\n",
       "    <tr>\n",
       "      <th>False</th>\n",
       "      <td>3923</td>\n",
       "      <td>4026</td>\n",
       "    </tr>\n",
       "    <tr>\n",
       "      <th>True</th>\n",
       "      <td>117</td>\n",
       "      <td>74</td>\n",
       "    </tr>\n",
       "  </tbody>\n",
       "</table>\n",
       "</div>"
      ],
      "text/plain": [
       "Transported  False  True\n",
       "VIP                     \n",
       "False         3923  4026\n",
       "True           117    74"
      ]
     },
     "execution_count": 23,
     "metadata": {},
     "output_type": "execute_result"
    }
   ],
   "source": [
    "v = pd.pivot_table(df, values=\"Count\", index='VIP', columns='Transported',\n",
    "                          aggfunc='count')\n",
    "v\n",
    "#doesn't seem to make a massive difference"
   ]
  },
  {
   "cell_type": "code",
   "execution_count": 24,
   "id": "db89a71b",
   "metadata": {},
   "outputs": [
    {
     "data": {
      "text/html": [
       "<div>\n",
       "<style scoped>\n",
       "    .dataframe tbody tr th:only-of-type {\n",
       "        vertical-align: middle;\n",
       "    }\n",
       "\n",
       "    .dataframe tbody tr th {\n",
       "        vertical-align: top;\n",
       "    }\n",
       "\n",
       "    .dataframe thead th {\n",
       "        text-align: right;\n",
       "    }\n",
       "</style>\n",
       "<table border=\"1\" class=\"dataframe\">\n",
       "  <thead>\n",
       "    <tr style=\"text-align: right;\">\n",
       "      <th>Transported</th>\n",
       "      <th>False</th>\n",
       "      <th>True</th>\n",
       "    </tr>\n",
       "    <tr>\n",
       "      <th>Destination</th>\n",
       "      <th></th>\n",
       "      <th></th>\n",
       "    </tr>\n",
       "  </thead>\n",
       "  <tbody>\n",
       "    <tr>\n",
       "      <th>C</th>\n",
       "      <td>680</td>\n",
       "      <td>1055</td>\n",
       "    </tr>\n",
       "    <tr>\n",
       "      <th>P</th>\n",
       "      <td>382</td>\n",
       "      <td>384</td>\n",
       "    </tr>\n",
       "    <tr>\n",
       "      <th>T</th>\n",
       "      <td>2978</td>\n",
       "      <td>2661</td>\n",
       "    </tr>\n",
       "  </tbody>\n",
       "</table>\n",
       "</div>"
      ],
      "text/plain": [
       "Transported  False  True\n",
       "Destination             \n",
       "C              680  1055\n",
       "P              382   384\n",
       "T             2978  2661"
      ]
     },
     "execution_count": 24,
     "metadata": {},
     "output_type": "execute_result"
    }
   ],
   "source": [
    "d = pd.pivot_table(df, values=\"Count\", index='Destination', columns='Transported',\n",
    "                          aggfunc='count')\n",
    "d\n",
    "\n",
    "#Better odds for C, 50/50 for P, worse odds for T"
   ]
  },
  {
   "cell_type": "code",
   "execution_count": 25,
   "id": "80e39477",
   "metadata": {
    "scrolled": true
   },
   "outputs": [
    {
     "data": {
      "text/html": [
       "<div>\n",
       "<style scoped>\n",
       "    .dataframe tbody tr th:only-of-type {\n",
       "        vertical-align: middle;\n",
       "    }\n",
       "\n",
       "    .dataframe tbody tr th {\n",
       "        vertical-align: top;\n",
       "    }\n",
       "\n",
       "    .dataframe thead th {\n",
       "        text-align: right;\n",
       "    }\n",
       "</style>\n",
       "<table border=\"1\" class=\"dataframe\">\n",
       "  <thead>\n",
       "    <tr style=\"text-align: right;\">\n",
       "      <th>Transported</th>\n",
       "      <th>False</th>\n",
       "      <th>True</th>\n",
       "    </tr>\n",
       "    <tr>\n",
       "      <th>CryoSleep</th>\n",
       "      <th></th>\n",
       "      <th></th>\n",
       "    </tr>\n",
       "  </thead>\n",
       "  <tbody>\n",
       "    <tr>\n",
       "      <th>False</th>\n",
       "      <td>3517</td>\n",
       "      <td>1786</td>\n",
       "    </tr>\n",
       "    <tr>\n",
       "      <th>True</th>\n",
       "      <td>523</td>\n",
       "      <td>2314</td>\n",
       "    </tr>\n",
       "  </tbody>\n",
       "</table>\n",
       "</div>"
      ],
      "text/plain": [
       "Transported  False  True\n",
       "CryoSleep               \n",
       "False         3517  1786\n",
       "True           523  2314"
      ]
     },
     "execution_count": 25,
     "metadata": {},
     "output_type": "execute_result"
    }
   ],
   "source": [
    "c = pd.pivot_table(df, values=\"Count\", index='CryoSleep', columns='Transported',\n",
    "                          aggfunc='count')\n",
    "c\n",
    "\n",
    "#A lot better for True, a lot worse for False"
   ]
  },
  {
   "cell_type": "code",
   "execution_count": 26,
   "id": "b526cf37",
   "metadata": {},
   "outputs": [
    {
     "data": {
      "text/html": [
       "<div>\n",
       "<style scoped>\n",
       "    .dataframe tbody tr th:only-of-type {\n",
       "        vertical-align: middle;\n",
       "    }\n",
       "\n",
       "    .dataframe tbody tr th {\n",
       "        vertical-align: top;\n",
       "    }\n",
       "\n",
       "    .dataframe thead th {\n",
       "        text-align: right;\n",
       "    }\n",
       "</style>\n",
       "<table border=\"1\" class=\"dataframe\">\n",
       "  <thead>\n",
       "    <tr style=\"text-align: right;\">\n",
       "      <th>Transported</th>\n",
       "      <th>False</th>\n",
       "      <th>True</th>\n",
       "    </tr>\n",
       "    <tr>\n",
       "      <th>Cabin</th>\n",
       "      <th></th>\n",
       "      <th></th>\n",
       "    </tr>\n",
       "  </thead>\n",
       "  <tbody>\n",
       "    <tr>\n",
       "      <th>None</th>\n",
       "      <td>91</td>\n",
       "      <td>94</td>\n",
       "    </tr>\n",
       "    <tr>\n",
       "      <th>P</th>\n",
       "      <td>2170</td>\n",
       "      <td>1778</td>\n",
       "    </tr>\n",
       "    <tr>\n",
       "      <th>S</th>\n",
       "      <td>1779</td>\n",
       "      <td>2228</td>\n",
       "    </tr>\n",
       "  </tbody>\n",
       "</table>\n",
       "</div>"
      ],
      "text/plain": [
       "Transported  False  True\n",
       "Cabin                   \n",
       "None            91    94\n",
       "P             2170  1778\n",
       "S             1779  2228"
      ]
     },
     "execution_count": 26,
     "metadata": {},
     "output_type": "execute_result"
    }
   ],
   "source": [
    "ca = pd.pivot_table(df, values=\"Count\", index='Cabin', columns='Transported',\n",
    "                          aggfunc='count')\n",
    "ca"
   ]
  },
  {
   "cell_type": "code",
   "execution_count": 27,
   "id": "e9e29e50",
   "metadata": {},
   "outputs": [
    {
     "name": "stdout",
     "output_type": "stream",
     "text": [
      "0.6632095040543089\n",
      "0.1843496651392316\n"
     ]
    }
   ],
   "source": [
    "print(3517/(3517+1786))\n",
    "print(523/(523+2314))"
   ]
  },
  {
   "cell_type": "code",
   "execution_count": 28,
   "id": "772ab7be",
   "metadata": {},
   "outputs": [],
   "source": [
    "p = p.reset_index()\n",
    "v = v.reset_index()\n",
    "d = d.reset_index()\n",
    "c = c.reset_index()\n",
    "ca = ca.reset_index()"
   ]
  },
  {
   "cell_type": "code",
   "execution_count": 29,
   "id": "6c38b8c3",
   "metadata": {},
   "outputs": [
    {
     "data": {
      "text/plain": [
       "<AxesSubplot:xlabel='CryoSleep'>"
      ]
     },
     "execution_count": 29,
     "metadata": {},
     "output_type": "execute_result"
    },
    {
     "data": {
      "image/png": "[encoded data removed]",
      "text/plain": [
       "<Figure size 864x576 with 1 Axes>"
      ]
     },
     "metadata": {
      "needs_background": "light"
     },
     "output_type": "display_data"
    }
   ],
   "source": [
    "c.set_index('CryoSleep').plot(kind='bar', stacked=True)"
   ]
  },
  {
   "cell_type": "code",
   "execution_count": 30,
   "id": "5b84fb47",
   "metadata": {},
   "outputs": [
    {
     "data": {
      "text/plain": [
       "<AxesSubplot:xlabel='HomePlanet'>"
      ]
     },
     "execution_count": 30,
     "metadata": {},
     "output_type": "execute_result"
    },
    {
     "data": {
      "image/png": "[encoded data removed]",
      "text/plain": [
       "<Figure size 864x576 with 1 Axes>"
      ]
     },
     "metadata": {
      "needs_background": "light"
     },
     "output_type": "display_data"
    }
   ],
   "source": [
    "p.set_index('HomePlanet').plot(kind='bar', stacked=True)"
   ]
  },
  {
   "cell_type": "code",
   "execution_count": 31,
   "id": "572d9d39",
   "metadata": {},
   "outputs": [
    {
     "data": {
      "text/plain": [
       "<AxesSubplot:xlabel='Destination'>"
      ]
     },
     "execution_count": 31,
     "metadata": {},
     "output_type": "execute_result"
    },
    {
     "data": {
      "image/png": "[encoded data removed]",
      "text/plain": [
       "<Figure size 864x576 with 1 Axes>"
      ]
     },
     "metadata": {
      "needs_background": "light"
     },
     "output_type": "display_data"
    }
   ],
   "source": [
    "d.set_index('Destination').plot(kind='bar', stacked=True)"
   ]
  },
  {
   "cell_type": "code",
   "execution_count": 32,
   "id": "300eed40",
   "metadata": {},
   "outputs": [
    {
     "data": {
      "text/plain": [
       "<AxesSubplot:xlabel='VIP'>"
      ]
     },
     "execution_count": 32,
     "metadata": {},
     "output_type": "execute_result"
    },
    {
     "data": {
      "image/png": "[encoded data removed]",
      "text/plain": [
       "<Figure size 864x576 with 1 Axes>"
      ]
     },
     "metadata": {
      "needs_background": "light"
     },
     "output_type": "display_data"
    }
   ],
   "source": [
    "v.set_index('VIP').plot(kind='bar', stacked=True)"
   ]
  },
  {
   "cell_type": "code",
   "execution_count": 33,
   "id": "a74c5d83",
   "metadata": {},
   "outputs": [
    {
     "data": {
      "text/html": [
       "<div>\n",
       "<style scoped>\n",
       "    .dataframe tbody tr th:only-of-type {\n",
       "        vertical-align: middle;\n",
       "    }\n",
       "\n",
       "    .dataframe tbody tr th {\n",
       "        vertical-align: top;\n",
       "    }\n",
       "\n",
       "    .dataframe thead th {\n",
       "        text-align: right;\n",
       "    }\n",
       "</style>\n",
       "<table border=\"1\" class=\"dataframe\">\n",
       "  <thead>\n",
       "    <tr style=\"text-align: right;\">\n",
       "      <th>Transported</th>\n",
       "      <th>False</th>\n",
       "      <th>True</th>\n",
       "    </tr>\n",
       "    <tr>\n",
       "      <th>Age</th>\n",
       "      <th></th>\n",
       "      <th></th>\n",
       "    </tr>\n",
       "  </thead>\n",
       "  <tbody>\n",
       "    <tr>\n",
       "      <th>0.0</th>\n",
       "      <td>31.0</td>\n",
       "      <td>141.0</td>\n",
       "    </tr>\n",
       "    <tr>\n",
       "      <th>1.0</th>\n",
       "      <td>18.0</td>\n",
       "      <td>48.0</td>\n",
       "    </tr>\n",
       "    <tr>\n",
       "      <th>2.0</th>\n",
       "      <td>22.0</td>\n",
       "      <td>50.0</td>\n",
       "    </tr>\n",
       "    <tr>\n",
       "      <th>3.0</th>\n",
       "      <td>16.0</td>\n",
       "      <td>57.0</td>\n",
       "    </tr>\n",
       "    <tr>\n",
       "      <th>4.0</th>\n",
       "      <td>18.0</td>\n",
       "      <td>52.0</td>\n",
       "    </tr>\n",
       "    <tr>\n",
       "      <th>...</th>\n",
       "      <td>...</td>\n",
       "      <td>...</td>\n",
       "    </tr>\n",
       "    <tr>\n",
       "      <th>75.0</th>\n",
       "      <td>2.0</td>\n",
       "      <td>2.0</td>\n",
       "    </tr>\n",
       "    <tr>\n",
       "      <th>76.0</th>\n",
       "      <td>1.0</td>\n",
       "      <td>1.0</td>\n",
       "    </tr>\n",
       "    <tr>\n",
       "      <th>77.0</th>\n",
       "      <td>1.0</td>\n",
       "      <td>1.0</td>\n",
       "    </tr>\n",
       "    <tr>\n",
       "      <th>78.0</th>\n",
       "      <td>2.0</td>\n",
       "      <td>1.0</td>\n",
       "    </tr>\n",
       "    <tr>\n",
       "      <th>79.0</th>\n",
       "      <td>3.0</td>\n",
       "      <td>NaN</td>\n",
       "    </tr>\n",
       "  </tbody>\n",
       "</table>\n",
       "<p>80 rows × 2 columns</p>\n",
       "</div>"
      ],
      "text/plain": [
       "Transported  False   True\n",
       "Age                      \n",
       "0.0           31.0  141.0\n",
       "1.0           18.0   48.0\n",
       "2.0           22.0   50.0\n",
       "3.0           16.0   57.0\n",
       "4.0           18.0   52.0\n",
       "...            ...    ...\n",
       "75.0           2.0    2.0\n",
       "76.0           1.0    1.0\n",
       "77.0           1.0    1.0\n",
       "78.0           2.0    1.0\n",
       "79.0           3.0    NaN\n",
       "\n",
       "[80 rows x 2 columns]"
      ]
     },
     "execution_count": 33,
     "metadata": {},
     "output_type": "execute_result"
    }
   ],
   "source": [
    "a = pd.pivot_table(df, values=\"Count\", index='Age', columns='Transported',\n",
    "                          aggfunc='count')\n",
    "a"
   ]
  },
  {
   "cell_type": "code",
   "execution_count": 34,
   "id": "837ce11f",
   "metadata": {},
   "outputs": [],
   "source": [
    "a = a.reset_index()"
   ]
  },
  {
   "cell_type": "code",
   "execution_count": 35,
   "id": "9be6513c",
   "metadata": {},
   "outputs": [
    {
     "data": {
      "text/html": [
       "<div>\n",
       "<style scoped>\n",
       "    .dataframe tbody tr th:only-of-type {\n",
       "        vertical-align: middle;\n",
       "    }\n",
       "\n",
       "    .dataframe tbody tr th {\n",
       "        vertical-align: top;\n",
       "    }\n",
       "\n",
       "    .dataframe thead th {\n",
       "        text-align: right;\n",
       "    }\n",
       "</style>\n",
       "<table border=\"1\" class=\"dataframe\">\n",
       "  <thead>\n",
       "    <tr style=\"text-align: right;\">\n",
       "      <th>Transported</th>\n",
       "      <th>Age</th>\n",
       "      <th>False</th>\n",
       "      <th>True</th>\n",
       "    </tr>\n",
       "  </thead>\n",
       "  <tbody>\n",
       "    <tr>\n",
       "      <th>0</th>\n",
       "      <td>0.0</td>\n",
       "      <td>31.0</td>\n",
       "      <td>141.0</td>\n",
       "    </tr>\n",
       "    <tr>\n",
       "      <th>1</th>\n",
       "      <td>1.0</td>\n",
       "      <td>18.0</td>\n",
       "      <td>48.0</td>\n",
       "    </tr>\n",
       "    <tr>\n",
       "      <th>2</th>\n",
       "      <td>2.0</td>\n",
       "      <td>22.0</td>\n",
       "      <td>50.0</td>\n",
       "    </tr>\n",
       "    <tr>\n",
       "      <th>3</th>\n",
       "      <td>3.0</td>\n",
       "      <td>16.0</td>\n",
       "      <td>57.0</td>\n",
       "    </tr>\n",
       "    <tr>\n",
       "      <th>4</th>\n",
       "      <td>4.0</td>\n",
       "      <td>18.0</td>\n",
       "      <td>52.0</td>\n",
       "    </tr>\n",
       "    <tr>\n",
       "      <th>...</th>\n",
       "      <td>...</td>\n",
       "      <td>...</td>\n",
       "      <td>...</td>\n",
       "    </tr>\n",
       "    <tr>\n",
       "      <th>75</th>\n",
       "      <td>75.0</td>\n",
       "      <td>2.0</td>\n",
       "      <td>2.0</td>\n",
       "    </tr>\n",
       "    <tr>\n",
       "      <th>76</th>\n",
       "      <td>76.0</td>\n",
       "      <td>1.0</td>\n",
       "      <td>1.0</td>\n",
       "    </tr>\n",
       "    <tr>\n",
       "      <th>77</th>\n",
       "      <td>77.0</td>\n",
       "      <td>1.0</td>\n",
       "      <td>1.0</td>\n",
       "    </tr>\n",
       "    <tr>\n",
       "      <th>78</th>\n",
       "      <td>78.0</td>\n",
       "      <td>2.0</td>\n",
       "      <td>1.0</td>\n",
       "    </tr>\n",
       "    <tr>\n",
       "      <th>79</th>\n",
       "      <td>79.0</td>\n",
       "      <td>3.0</td>\n",
       "      <td>NaN</td>\n",
       "    </tr>\n",
       "  </tbody>\n",
       "</table>\n",
       "<p>80 rows × 3 columns</p>\n",
       "</div>"
      ],
      "text/plain": [
       "Transported   Age  False   True\n",
       "0             0.0   31.0  141.0\n",
       "1             1.0   18.0   48.0\n",
       "2             2.0   22.0   50.0\n",
       "3             3.0   16.0   57.0\n",
       "4             4.0   18.0   52.0\n",
       "..            ...    ...    ...\n",
       "75           75.0    2.0    2.0\n",
       "76           76.0    1.0    1.0\n",
       "77           77.0    1.0    1.0\n",
       "78           78.0    2.0    1.0\n",
       "79           79.0    3.0    NaN\n",
       "\n",
       "[80 rows x 3 columns]"
      ]
     },
     "execution_count": 35,
     "metadata": {},
     "output_type": "execute_result"
    }
   ],
   "source": [
    "a"
   ]
  },
  {
   "cell_type": "code",
   "execution_count": 36,
   "id": "9f127c51",
   "metadata": {
    "scrolled": true
   },
   "outputs": [
    {
     "data": {
      "text/plain": [
       "<AxesSubplot:xlabel='Age'>"
      ]
     },
     "execution_count": 36,
     "metadata": {},
     "output_type": "execute_result"
    },
    {
     "data": {
      "image/png": "[encoded data removed]",
      "text/plain": [
       "<Figure size 864x576 with 1 Axes>"
      ]
     },
     "metadata": {
      "needs_background": "light"
     },
     "output_type": "display_data"
    }
   ],
   "source": [
    "a.set_index('Age').plot(kind='bar', stacked=True)"
   ]
  },
  {
   "cell_type": "code",
   "execution_count": 37,
   "id": "f7ece197",
   "metadata": {},
   "outputs": [
    {
     "data": {
      "text/plain": [
       "<AxesSubplot:xlabel='Cabin'>"
      ]
     },
     "execution_count": 37,
     "metadata": {},
     "output_type": "execute_result"
    },
    {
     "data": {
      "image/png": "[encoded data removed]",
      "text/plain": [
       "<Figure size 864x576 with 1 Axes>"
      ]
     },
     "metadata": {
      "needs_background": "light"
     },
     "output_type": "display_data"
    }
   ],
   "source": [
    "ca.set_index('Cabin').plot(kind='bar', stacked=True)"
   ]
  },
  {
   "cell_type": "code",
   "execution_count": 38,
   "id": "d7f09dcd",
   "metadata": {},
   "outputs": [],
   "source": [
    "df = df.drop(['Count'], axis=1)"
   ]
  },
  {
   "cell_type": "code",
   "execution_count": 39,
   "id": "3b02d83a",
   "metadata": {},
   "outputs": [
    {
     "data": {
      "text/html": [
       "<div>\n",
       "<style scoped>\n",
       "    .dataframe tbody tr th:only-of-type {\n",
       "        vertical-align: middle;\n",
       "    }\n",
       "\n",
       "    .dataframe tbody tr th {\n",
       "        vertical-align: top;\n",
       "    }\n",
       "\n",
       "    .dataframe thead th {\n",
       "        text-align: right;\n",
       "    }\n",
       "</style>\n",
       "<table border=\"1\" class=\"dataframe\">\n",
       "  <thead>\n",
       "    <tr style=\"text-align: right;\">\n",
       "      <th></th>\n",
       "      <th>PassengerId</th>\n",
       "      <th>HomePlanet</th>\n",
       "      <th>CryoSleep</th>\n",
       "      <th>Cabin</th>\n",
       "      <th>Destination</th>\n",
       "      <th>Age</th>\n",
       "      <th>VIP</th>\n",
       "      <th>RoomService</th>\n",
       "      <th>FoodCourt</th>\n",
       "      <th>ShoppingMall</th>\n",
       "      <th>Spa</th>\n",
       "      <th>VRDeck</th>\n",
       "      <th>Transported</th>\n",
       "    </tr>\n",
       "  </thead>\n",
       "  <tbody>\n",
       "    <tr>\n",
       "      <th>0</th>\n",
       "      <td>0</td>\n",
       "      <td>1</td>\n",
       "      <td>False</td>\n",
       "      <td>1</td>\n",
       "      <td>2</td>\n",
       "      <td>39.0</td>\n",
       "      <td>False</td>\n",
       "      <td>0.0</td>\n",
       "      <td>0.0</td>\n",
       "      <td>0.0</td>\n",
       "      <td>0.0</td>\n",
       "      <td>0.0</td>\n",
       "      <td>False</td>\n",
       "    </tr>\n",
       "    <tr>\n",
       "      <th>1</th>\n",
       "      <td>1</td>\n",
       "      <td>0</td>\n",
       "      <td>False</td>\n",
       "      <td>2</td>\n",
       "      <td>2</td>\n",
       "      <td>24.0</td>\n",
       "      <td>False</td>\n",
       "      <td>109.0</td>\n",
       "      <td>9.0</td>\n",
       "      <td>25.0</td>\n",
       "      <td>549.0</td>\n",
       "      <td>44.0</td>\n",
       "      <td>True</td>\n",
       "    </tr>\n",
       "    <tr>\n",
       "      <th>2</th>\n",
       "      <td>2</td>\n",
       "      <td>1</td>\n",
       "      <td>False</td>\n",
       "      <td>2</td>\n",
       "      <td>2</td>\n",
       "      <td>58.0</td>\n",
       "      <td>True</td>\n",
       "      <td>43.0</td>\n",
       "      <td>3576.0</td>\n",
       "      <td>0.0</td>\n",
       "      <td>6715.0</td>\n",
       "      <td>49.0</td>\n",
       "      <td>False</td>\n",
       "    </tr>\n",
       "    <tr>\n",
       "      <th>3</th>\n",
       "      <td>3</td>\n",
       "      <td>1</td>\n",
       "      <td>False</td>\n",
       "      <td>2</td>\n",
       "      <td>2</td>\n",
       "      <td>33.0</td>\n",
       "      <td>False</td>\n",
       "      <td>0.0</td>\n",
       "      <td>1283.0</td>\n",
       "      <td>371.0</td>\n",
       "      <td>3329.0</td>\n",
       "      <td>193.0</td>\n",
       "      <td>False</td>\n",
       "    </tr>\n",
       "    <tr>\n",
       "      <th>4</th>\n",
       "      <td>4</td>\n",
       "      <td>0</td>\n",
       "      <td>False</td>\n",
       "      <td>2</td>\n",
       "      <td>2</td>\n",
       "      <td>16.0</td>\n",
       "      <td>False</td>\n",
       "      <td>303.0</td>\n",
       "      <td>70.0</td>\n",
       "      <td>151.0</td>\n",
       "      <td>565.0</td>\n",
       "      <td>2.0</td>\n",
       "      <td>True</td>\n",
       "    </tr>\n",
       "    <tr>\n",
       "      <th>...</th>\n",
       "      <td>...</td>\n",
       "      <td>...</td>\n",
       "      <td>...</td>\n",
       "      <td>...</td>\n",
       "      <td>...</td>\n",
       "      <td>...</td>\n",
       "      <td>...</td>\n",
       "      <td>...</td>\n",
       "      <td>...</td>\n",
       "      <td>...</td>\n",
       "      <td>...</td>\n",
       "      <td>...</td>\n",
       "      <td>...</td>\n",
       "    </tr>\n",
       "    <tr>\n",
       "      <th>8688</th>\n",
       "      <td>8135</td>\n",
       "      <td>1</td>\n",
       "      <td>False</td>\n",
       "      <td>1</td>\n",
       "      <td>0</td>\n",
       "      <td>41.0</td>\n",
       "      <td>True</td>\n",
       "      <td>0.0</td>\n",
       "      <td>6819.0</td>\n",
       "      <td>0.0</td>\n",
       "      <td>1643.0</td>\n",
       "      <td>74.0</td>\n",
       "      <td>False</td>\n",
       "    </tr>\n",
       "    <tr>\n",
       "      <th>8689</th>\n",
       "      <td>8136</td>\n",
       "      <td>0</td>\n",
       "      <td>True</td>\n",
       "      <td>2</td>\n",
       "      <td>1</td>\n",
       "      <td>18.0</td>\n",
       "      <td>False</td>\n",
       "      <td>0.0</td>\n",
       "      <td>0.0</td>\n",
       "      <td>0.0</td>\n",
       "      <td>0.0</td>\n",
       "      <td>0.0</td>\n",
       "      <td>False</td>\n",
       "    </tr>\n",
       "    <tr>\n",
       "      <th>8690</th>\n",
       "      <td>8137</td>\n",
       "      <td>0</td>\n",
       "      <td>False</td>\n",
       "      <td>2</td>\n",
       "      <td>2</td>\n",
       "      <td>26.0</td>\n",
       "      <td>False</td>\n",
       "      <td>0.0</td>\n",
       "      <td>0.0</td>\n",
       "      <td>1872.0</td>\n",
       "      <td>1.0</td>\n",
       "      <td>0.0</td>\n",
       "      <td>True</td>\n",
       "    </tr>\n",
       "    <tr>\n",
       "      <th>8691</th>\n",
       "      <td>8138</td>\n",
       "      <td>1</td>\n",
       "      <td>False</td>\n",
       "      <td>2</td>\n",
       "      <td>0</td>\n",
       "      <td>32.0</td>\n",
       "      <td>False</td>\n",
       "      <td>0.0</td>\n",
       "      <td>1049.0</td>\n",
       "      <td>0.0</td>\n",
       "      <td>353.0</td>\n",
       "      <td>3235.0</td>\n",
       "      <td>False</td>\n",
       "    </tr>\n",
       "    <tr>\n",
       "      <th>8692</th>\n",
       "      <td>8139</td>\n",
       "      <td>1</td>\n",
       "      <td>False</td>\n",
       "      <td>2</td>\n",
       "      <td>2</td>\n",
       "      <td>44.0</td>\n",
       "      <td>False</td>\n",
       "      <td>126.0</td>\n",
       "      <td>4688.0</td>\n",
       "      <td>0.0</td>\n",
       "      <td>0.0</td>\n",
       "      <td>12.0</td>\n",
       "      <td>True</td>\n",
       "    </tr>\n",
       "  </tbody>\n",
       "</table>\n",
       "<p>8140 rows × 13 columns</p>\n",
       "</div>"
      ],
      "text/plain": [
       "      PassengerId  HomePlanet  CryoSleep  Cabin  Destination   Age    VIP  \\\n",
       "0               0           1      False      1            2  39.0  False   \n",
       "1               1           0      False      2            2  24.0  False   \n",
       "2               2           1      False      2            2  58.0   True   \n",
       "3               3           1      False      2            2  33.0  False   \n",
       "4               4           0      False      2            2  16.0  False   \n",
       "...           ...         ...        ...    ...          ...   ...    ...   \n",
       "8688         8135           1      False      1            0  41.0   True   \n",
       "8689         8136           0       True      2            1  18.0  False   \n",
       "8690         8137           0      False      2            2  26.0  False   \n",
       "8691         8138           1      False      2            0  32.0  False   \n",
       "8692         8139           1      False      2            2  44.0  False   \n",
       "\n",
       "      RoomService  FoodCourt  ShoppingMall     Spa  VRDeck  Transported  \n",
       "0             0.0        0.0           0.0     0.0     0.0        False  \n",
       "1           109.0        9.0          25.0   549.0    44.0         True  \n",
       "2            43.0     3576.0           0.0  6715.0    49.0        False  \n",
       "3             0.0     1283.0         371.0  3329.0   193.0        False  \n",
       "4           303.0       70.0         151.0   565.0     2.0         True  \n",
       "...           ...        ...           ...     ...     ...          ...  \n",
       "8688          0.0     6819.0           0.0  1643.0    74.0        False  \n",
       "8689          0.0        0.0           0.0     0.0     0.0        False  \n",
       "8690          0.0        0.0        1872.0     1.0     0.0         True  \n",
       "8691          0.0     1049.0           0.0   353.0  3235.0        False  \n",
       "8692        126.0     4688.0           0.0     0.0    12.0         True  \n",
       "\n",
       "[8140 rows x 13 columns]"
      ]
     },
     "execution_count": 39,
     "metadata": {},
     "output_type": "execute_result"
    }
   ],
   "source": [
    "#corr matrix\n",
    "df_num = df\n",
    "for col_name in df_num.columns:\n",
    "    if(df_num[col_name].dtype == \"object\"):\n",
    "        df_num[col_name] = df_num[col_name].astype(\"category\")\n",
    "        df_num[col_name] = df_num[col_name].cat.codes\n",
    "        \n",
    "df_num"
   ]
  },
  {
   "cell_type": "code",
   "execution_count": 40,
   "id": "92a943d9",
   "metadata": {},
   "outputs": [],
   "source": [
    "df['Spending'] = df['RoomService'] + df['FoodCourt'] + df['ShoppingMall'] + df['Spa'] + df['VRDeck']"
   ]
  },
  {
   "cell_type": "code",
   "execution_count": 41,
   "id": "df66b2d0",
   "metadata": {},
   "outputs": [
    {
     "data": {
      "text/html": [
       "<div>\n",
       "<style scoped>\n",
       "    .dataframe tbody tr th:only-of-type {\n",
       "        vertical-align: middle;\n",
       "    }\n",
       "\n",
       "    .dataframe tbody tr th {\n",
       "        vertical-align: top;\n",
       "    }\n",
       "\n",
       "    .dataframe thead th {\n",
       "        text-align: right;\n",
       "    }\n",
       "</style>\n",
       "<table border=\"1\" class=\"dataframe\">\n",
       "  <thead>\n",
       "    <tr style=\"text-align: right;\">\n",
       "      <th></th>\n",
       "      <th>PassengerId</th>\n",
       "      <th>HomePlanet</th>\n",
       "      <th>CryoSleep</th>\n",
       "      <th>Cabin</th>\n",
       "      <th>Destination</th>\n",
       "      <th>Age</th>\n",
       "      <th>VIP</th>\n",
       "      <th>RoomService</th>\n",
       "      <th>FoodCourt</th>\n",
       "      <th>ShoppingMall</th>\n",
       "      <th>Spa</th>\n",
       "      <th>VRDeck</th>\n",
       "      <th>Transported</th>\n",
       "      <th>Spending</th>\n",
       "    </tr>\n",
       "  </thead>\n",
       "  <tbody>\n",
       "    <tr>\n",
       "      <th>PassengerId</th>\n",
       "      <td>1.000000</td>\n",
       "      <td>-0.006632</td>\n",
       "      <td>-0.003644</td>\n",
       "      <td>0.007107</td>\n",
       "      <td>-0.009463</td>\n",
       "      <td>-0.010319</td>\n",
       "      <td>0.014304</td>\n",
       "      <td>-0.002000</td>\n",
       "      <td>-0.009664</td>\n",
       "      <td>0.020858</td>\n",
       "      <td>-0.006661</td>\n",
       "      <td>0.014508</td>\n",
       "      <td>0.029090</td>\n",
       "      <td>0.001728</td>\n",
       "    </tr>\n",
       "    <tr>\n",
       "      <th>HomePlanet</th>\n",
       "      <td>-0.006632</td>\n",
       "      <td>1.000000</td>\n",
       "      <td>0.082696</td>\n",
       "      <td>-0.004530</td>\n",
       "      <td>0.038936</td>\n",
       "      <td>0.136447</td>\n",
       "      <td>0.128593</td>\n",
       "      <td>0.214092</td>\n",
       "      <td>0.071185</td>\n",
       "      <td>0.103700</td>\n",
       "      <td>0.054965</td>\n",
       "      <td>0.041259</td>\n",
       "      <td>0.117039</td>\n",
       "      <td>0.152345</td>\n",
       "    </tr>\n",
       "    <tr>\n",
       "      <th>CryoSleep</th>\n",
       "      <td>-0.003644</td>\n",
       "      <td>0.082696</td>\n",
       "      <td>1.000000</td>\n",
       "      <td>0.006145</td>\n",
       "      <td>-0.092401</td>\n",
       "      <td>-0.075767</td>\n",
       "      <td>-0.079314</td>\n",
       "      <td>-0.241976</td>\n",
       "      <td>-0.205461</td>\n",
       "      <td>-0.207607</td>\n",
       "      <td>-0.199292</td>\n",
       "      <td>-0.191214</td>\n",
       "      <td>0.456369</td>\n",
       "      <td>-0.376239</td>\n",
       "    </tr>\n",
       "    <tr>\n",
       "      <th>Cabin</th>\n",
       "      <td>0.007107</td>\n",
       "      <td>-0.004530</td>\n",
       "      <td>0.006145</td>\n",
       "      <td>1.000000</td>\n",
       "      <td>-0.003871</td>\n",
       "      <td>0.008689</td>\n",
       "      <td>-0.014477</td>\n",
       "      <td>-0.022275</td>\n",
       "      <td>0.018206</td>\n",
       "      <td>-0.011568</td>\n",
       "      <td>-0.006341</td>\n",
       "      <td>-0.003283</td>\n",
       "      <td>0.094585</td>\n",
       "      <td>-0.001148</td>\n",
       "    </tr>\n",
       "    <tr>\n",
       "      <th>Destination</th>\n",
       "      <td>-0.009463</td>\n",
       "      <td>0.038936</td>\n",
       "      <td>-0.092401</td>\n",
       "      <td>-0.003871</td>\n",
       "      <td>1.000000</td>\n",
       "      <td>-0.006785</td>\n",
       "      <td>-0.044033</td>\n",
       "      <td>0.047072</td>\n",
       "      <td>-0.107333</td>\n",
       "      <td>0.026570</td>\n",
       "      <td>-0.056853</td>\n",
       "      <td>-0.074636</td>\n",
       "      <td>-0.107710</td>\n",
       "      <td>-0.097527</td>\n",
       "    </tr>\n",
       "    <tr>\n",
       "      <th>Age</th>\n",
       "      <td>-0.010319</td>\n",
       "      <td>0.136447</td>\n",
       "      <td>-0.075767</td>\n",
       "      <td>0.008689</td>\n",
       "      <td>-0.006785</td>\n",
       "      <td>1.000000</td>\n",
       "      <td>0.090472</td>\n",
       "      <td>0.070647</td>\n",
       "      <td>0.127590</td>\n",
       "      <td>0.033373</td>\n",
       "      <td>0.123881</td>\n",
       "      <td>0.100606</td>\n",
       "      <td>-0.077877</td>\n",
       "      <td>0.186928</td>\n",
       "    </tr>\n",
       "    <tr>\n",
       "      <th>VIP</th>\n",
       "      <td>0.014304</td>\n",
       "      <td>0.128593</td>\n",
       "      <td>-0.079314</td>\n",
       "      <td>-0.014477</td>\n",
       "      <td>-0.044033</td>\n",
       "      <td>0.090472</td>\n",
       "      <td>1.000000</td>\n",
       "      <td>0.052915</td>\n",
       "      <td>0.124280</td>\n",
       "      <td>0.019490</td>\n",
       "      <td>0.064450</td>\n",
       "      <td>0.123472</td>\n",
       "      <td>-0.036041</td>\n",
       "      <td>0.163711</td>\n",
       "    </tr>\n",
       "    <tr>\n",
       "      <th>RoomService</th>\n",
       "      <td>-0.002000</td>\n",
       "      <td>0.214092</td>\n",
       "      <td>-0.241976</td>\n",
       "      <td>-0.022275</td>\n",
       "      <td>0.047072</td>\n",
       "      <td>0.070647</td>\n",
       "      <td>0.052915</td>\n",
       "      <td>1.000000</td>\n",
       "      <td>-0.013535</td>\n",
       "      <td>0.050747</td>\n",
       "      <td>0.012863</td>\n",
       "      <td>-0.017504</td>\n",
       "      <td>-0.239509</td>\n",
       "      <td>0.238231</td>\n",
       "    </tr>\n",
       "    <tr>\n",
       "      <th>FoodCourt</th>\n",
       "      <td>-0.009664</td>\n",
       "      <td>0.071185</td>\n",
       "      <td>-0.205461</td>\n",
       "      <td>0.018206</td>\n",
       "      <td>-0.107333</td>\n",
       "      <td>0.127590</td>\n",
       "      <td>0.124280</td>\n",
       "      <td>-0.013535</td>\n",
       "      <td>1.000000</td>\n",
       "      <td>-0.013837</td>\n",
       "      <td>0.223971</td>\n",
       "      <td>0.215346</td>\n",
       "      <td>0.048393</td>\n",
       "      <td>0.743811</td>\n",
       "    </tr>\n",
       "    <tr>\n",
       "      <th>ShoppingMall</th>\n",
       "      <td>0.020858</td>\n",
       "      <td>0.103700</td>\n",
       "      <td>-0.207607</td>\n",
       "      <td>-0.011568</td>\n",
       "      <td>0.026570</td>\n",
       "      <td>0.033373</td>\n",
       "      <td>0.019490</td>\n",
       "      <td>0.050747</td>\n",
       "      <td>-0.013837</td>\n",
       "      <td>1.000000</td>\n",
       "      <td>0.014254</td>\n",
       "      <td>-0.006322</td>\n",
       "      <td>0.010798</td>\n",
       "      <td>0.221723</td>\n",
       "    </tr>\n",
       "    <tr>\n",
       "      <th>Spa</th>\n",
       "      <td>-0.006661</td>\n",
       "      <td>0.054965</td>\n",
       "      <td>-0.199292</td>\n",
       "      <td>-0.006341</td>\n",
       "      <td>-0.056853</td>\n",
       "      <td>0.123881</td>\n",
       "      <td>0.064450</td>\n",
       "      <td>0.012863</td>\n",
       "      <td>0.223971</td>\n",
       "      <td>0.014254</td>\n",
       "      <td>1.000000</td>\n",
       "      <td>0.146141</td>\n",
       "      <td>-0.219851</td>\n",
       "      <td>0.588414</td>\n",
       "    </tr>\n",
       "    <tr>\n",
       "      <th>VRDeck</th>\n",
       "      <td>0.014508</td>\n",
       "      <td>0.041259</td>\n",
       "      <td>-0.191214</td>\n",
       "      <td>-0.003283</td>\n",
       "      <td>-0.074636</td>\n",
       "      <td>0.100606</td>\n",
       "      <td>0.123472</td>\n",
       "      <td>-0.017504</td>\n",
       "      <td>0.215346</td>\n",
       "      <td>-0.006322</td>\n",
       "      <td>0.146141</td>\n",
       "      <td>1.000000</td>\n",
       "      <td>-0.203748</td>\n",
       "      <td>0.582466</td>\n",
       "    </tr>\n",
       "    <tr>\n",
       "      <th>Transported</th>\n",
       "      <td>0.029090</td>\n",
       "      <td>0.117039</td>\n",
       "      <td>0.456369</td>\n",
       "      <td>0.094585</td>\n",
       "      <td>-0.107710</td>\n",
       "      <td>-0.077877</td>\n",
       "      <td>-0.036041</td>\n",
       "      <td>-0.239509</td>\n",
       "      <td>0.048393</td>\n",
       "      <td>0.010798</td>\n",
       "      <td>-0.219851</td>\n",
       "      <td>-0.203748</td>\n",
       "      <td>1.000000</td>\n",
       "      <td>-0.196256</td>\n",
       "    </tr>\n",
       "    <tr>\n",
       "      <th>Spending</th>\n",
       "      <td>0.001728</td>\n",
       "      <td>0.152345</td>\n",
       "      <td>-0.376239</td>\n",
       "      <td>-0.001148</td>\n",
       "      <td>-0.097527</td>\n",
       "      <td>0.186928</td>\n",
       "      <td>0.163711</td>\n",
       "      <td>0.238231</td>\n",
       "      <td>0.743811</td>\n",
       "      <td>0.221723</td>\n",
       "      <td>0.588414</td>\n",
       "      <td>0.582466</td>\n",
       "      <td>-0.196256</td>\n",
       "      <td>1.000000</td>\n",
       "    </tr>\n",
       "  </tbody>\n",
       "</table>\n",
       "</div>"
      ],
      "text/plain": [
       "              PassengerId  HomePlanet  CryoSleep     Cabin  Destination  \\\n",
       "PassengerId      1.000000   -0.006632  -0.003644  0.007107    -0.009463   \n",
       "HomePlanet      -0.006632    1.000000   0.082696 -0.004530     0.038936   \n",
       "CryoSleep       -0.003644    0.082696   1.000000  0.006145    -0.092401   \n",
       "Cabin            0.007107   -0.004530   0.006145  1.000000    -0.003871   \n",
       "Destination     -0.009463    0.038936  -0.092401 -0.003871     1.000000   \n",
       "Age             -0.010319    0.136447  -0.075767  0.008689    -0.006785   \n",
       "VIP              0.014304    0.128593  -0.079314 -0.014477    -0.044033   \n",
       "RoomService     -0.002000    0.214092  -0.241976 -0.022275     0.047072   \n",
       "FoodCourt       -0.009664    0.071185  -0.205461  0.018206    -0.107333   \n",
       "ShoppingMall     0.020858    0.103700  -0.207607 -0.011568     0.026570   \n",
       "Spa             -0.006661    0.054965  -0.199292 -0.006341    -0.056853   \n",
       "VRDeck           0.014508    0.041259  -0.191214 -0.003283    -0.074636   \n",
       "Transported      0.029090    0.117039   0.456369  0.094585    -0.107710   \n",
       "Spending         0.001728    0.152345  -0.376239 -0.001148    -0.097527   \n",
       "\n",
       "                   Age       VIP  RoomService  FoodCourt  ShoppingMall  \\\n",
       "PassengerId  -0.010319  0.014304    -0.002000  -0.009664      0.020858   \n",
       "HomePlanet    0.136447  0.128593     0.214092   0.071185      0.103700   \n",
       "CryoSleep    -0.075767 -0.079314    -0.241976  -0.205461     -0.207607   \n",
       "Cabin         0.008689 -0.014477    -0.022275   0.018206     -0.011568   \n",
       "Destination  -0.006785 -0.044033     0.047072  -0.107333      0.026570   \n",
       "Age           1.000000  0.090472     0.070647   0.127590      0.033373   \n",
       "VIP           0.090472  1.000000     0.052915   0.124280      0.019490   \n",
       "RoomService   0.070647  0.052915     1.000000  -0.013535      0.050747   \n",
       "FoodCourt     0.127590  0.124280    -0.013535   1.000000     -0.013837   \n",
       "ShoppingMall  0.033373  0.019490     0.050747  -0.013837      1.000000   \n",
       "Spa           0.123881  0.064450     0.012863   0.223971      0.014254   \n",
       "VRDeck        0.100606  0.123472    -0.017504   0.215346     -0.006322   \n",
       "Transported  -0.077877 -0.036041    -0.239509   0.048393      0.010798   \n",
       "Spending      0.186928  0.163711     0.238231   0.743811      0.221723   \n",
       "\n",
       "                   Spa    VRDeck  Transported  Spending  \n",
       "PassengerId  -0.006661  0.014508     0.029090  0.001728  \n",
       "HomePlanet    0.054965  0.041259     0.117039  0.152345  \n",
       "CryoSleep    -0.199292 -0.191214     0.456369 -0.376239  \n",
       "Cabin        -0.006341 -0.003283     0.094585 -0.001148  \n",
       "Destination  -0.056853 -0.074636    -0.107710 -0.097527  \n",
       "Age           0.123881  0.100606    -0.077877  0.186928  \n",
       "VIP           0.064450  0.123472    -0.036041  0.163711  \n",
       "RoomService   0.012863 -0.017504    -0.239509  0.238231  \n",
       "FoodCourt     0.223971  0.215346     0.048393  0.743811  \n",
       "ShoppingMall  0.014254 -0.006322     0.010798  0.221723  \n",
       "Spa           1.000000  0.146141    -0.219851  0.588414  \n",
       "VRDeck        0.146141  1.000000    -0.203748  0.582466  \n",
       "Transported  -0.219851 -0.203748     1.000000 -0.196256  \n",
       "Spending      0.588414  0.582466    -0.196256  1.000000  "
      ]
     },
     "execution_count": 41,
     "metadata": {},
     "output_type": "execute_result"
    }
   ],
   "source": [
    "df_num.corr()"
   ]
  },
  {
   "cell_type": "code",
   "execution_count": 42,
   "id": "179e98dd",
   "metadata": {},
   "outputs": [
    {
     "data": {
      "image/png": "[encoded data removed]",
      "text/plain": [
       "<Figure size 864x576 with 2 Axes>"
      ]
     },
     "metadata": {
      "needs_background": "light"
     },
     "output_type": "display_data"
    }
   ],
   "source": [
    "corr_matrix = df_num.corr()\n",
    "sns.heatmap(corr_matrix, annot=True)\n",
    "plt.title(\"Correlations Heat Map\")\n",
    "plt.xlabel(\"Feature\")\n",
    "plt.ylabel(\"Feature\")\n",
    "plt.show()"
   ]
  },
  {
   "cell_type": "code",
   "execution_count": 43,
   "id": "2ed34f4d",
   "metadata": {},
   "outputs": [],
   "source": [
    "df['Any_Spending'] = (df['Spending'] > 0)"
   ]
  },
  {
   "cell_type": "code",
   "execution_count": 44,
   "id": "28207d44",
   "metadata": {},
   "outputs": [],
   "source": [
    "awake = df[df.CryoSleep == False]"
   ]
  },
  {
   "cell_type": "code",
   "execution_count": 45,
   "id": "2fedafda",
   "metadata": {},
   "outputs": [
    {
     "data": {
      "text/html": [
       "<div>\n",
       "<style scoped>\n",
       "    .dataframe tbody tr th:only-of-type {\n",
       "        vertical-align: middle;\n",
       "    }\n",
       "\n",
       "    .dataframe tbody tr th {\n",
       "        vertical-align: top;\n",
       "    }\n",
       "\n",
       "    .dataframe thead th {\n",
       "        text-align: right;\n",
       "    }\n",
       "</style>\n",
       "<table border=\"1\" class=\"dataframe\">\n",
       "  <thead>\n",
       "    <tr style=\"text-align: right;\">\n",
       "      <th></th>\n",
       "      <th>PassengerId</th>\n",
       "      <th>HomePlanet</th>\n",
       "      <th>CryoSleep</th>\n",
       "      <th>Cabin</th>\n",
       "      <th>Destination</th>\n",
       "      <th>Age</th>\n",
       "      <th>VIP</th>\n",
       "      <th>RoomService</th>\n",
       "      <th>FoodCourt</th>\n",
       "      <th>ShoppingMall</th>\n",
       "      <th>Spa</th>\n",
       "      <th>VRDeck</th>\n",
       "      <th>Transported</th>\n",
       "      <th>Spending</th>\n",
       "      <th>Any_Spending</th>\n",
       "    </tr>\n",
       "  </thead>\n",
       "  <tbody>\n",
       "    <tr>\n",
       "      <th>0</th>\n",
       "      <td>0</td>\n",
       "      <td>1</td>\n",
       "      <td>False</td>\n",
       "      <td>1</td>\n",
       "      <td>2</td>\n",
       "      <td>39.0</td>\n",
       "      <td>False</td>\n",
       "      <td>0.0</td>\n",
       "      <td>0.0</td>\n",
       "      <td>0.0</td>\n",
       "      <td>0.0</td>\n",
       "      <td>0.0</td>\n",
       "      <td>False</td>\n",
       "      <td>0.0</td>\n",
       "      <td>False</td>\n",
       "    </tr>\n",
       "    <tr>\n",
       "      <th>1</th>\n",
       "      <td>1</td>\n",
       "      <td>0</td>\n",
       "      <td>False</td>\n",
       "      <td>2</td>\n",
       "      <td>2</td>\n",
       "      <td>24.0</td>\n",
       "      <td>False</td>\n",
       "      <td>109.0</td>\n",
       "      <td>9.0</td>\n",
       "      <td>25.0</td>\n",
       "      <td>549.0</td>\n",
       "      <td>44.0</td>\n",
       "      <td>True</td>\n",
       "      <td>736.0</td>\n",
       "      <td>True</td>\n",
       "    </tr>\n",
       "    <tr>\n",
       "      <th>2</th>\n",
       "      <td>2</td>\n",
       "      <td>1</td>\n",
       "      <td>False</td>\n",
       "      <td>2</td>\n",
       "      <td>2</td>\n",
       "      <td>58.0</td>\n",
       "      <td>True</td>\n",
       "      <td>43.0</td>\n",
       "      <td>3576.0</td>\n",
       "      <td>0.0</td>\n",
       "      <td>6715.0</td>\n",
       "      <td>49.0</td>\n",
       "      <td>False</td>\n",
       "      <td>10383.0</td>\n",
       "      <td>True</td>\n",
       "    </tr>\n",
       "    <tr>\n",
       "      <th>3</th>\n",
       "      <td>3</td>\n",
       "      <td>1</td>\n",
       "      <td>False</td>\n",
       "      <td>2</td>\n",
       "      <td>2</td>\n",
       "      <td>33.0</td>\n",
       "      <td>False</td>\n",
       "      <td>0.0</td>\n",
       "      <td>1283.0</td>\n",
       "      <td>371.0</td>\n",
       "      <td>3329.0</td>\n",
       "      <td>193.0</td>\n",
       "      <td>False</td>\n",
       "      <td>5176.0</td>\n",
       "      <td>True</td>\n",
       "    </tr>\n",
       "    <tr>\n",
       "      <th>4</th>\n",
       "      <td>4</td>\n",
       "      <td>0</td>\n",
       "      <td>False</td>\n",
       "      <td>2</td>\n",
       "      <td>2</td>\n",
       "      <td>16.0</td>\n",
       "      <td>False</td>\n",
       "      <td>303.0</td>\n",
       "      <td>70.0</td>\n",
       "      <td>151.0</td>\n",
       "      <td>565.0</td>\n",
       "      <td>2.0</td>\n",
       "      <td>True</td>\n",
       "      <td>1091.0</td>\n",
       "      <td>True</td>\n",
       "    </tr>\n",
       "  </tbody>\n",
       "</table>\n",
       "</div>"
      ],
      "text/plain": [
       "   PassengerId  HomePlanet  CryoSleep  Cabin  Destination   Age    VIP  \\\n",
       "0            0           1      False      1            2  39.0  False   \n",
       "1            1           0      False      2            2  24.0  False   \n",
       "2            2           1      False      2            2  58.0   True   \n",
       "3            3           1      False      2            2  33.0  False   \n",
       "4            4           0      False      2            2  16.0  False   \n",
       "\n",
       "   RoomService  FoodCourt  ShoppingMall     Spa  VRDeck  Transported  \\\n",
       "0          0.0        0.0           0.0     0.0     0.0        False   \n",
       "1        109.0        9.0          25.0   549.0    44.0         True   \n",
       "2         43.0     3576.0           0.0  6715.0    49.0        False   \n",
       "3          0.0     1283.0         371.0  3329.0   193.0        False   \n",
       "4        303.0       70.0         151.0   565.0     2.0         True   \n",
       "\n",
       "   Spending  Any_Spending  \n",
       "0       0.0         False  \n",
       "1     736.0          True  \n",
       "2   10383.0          True  \n",
       "3    5176.0          True  \n",
       "4    1091.0          True  "
      ]
     },
     "execution_count": 45,
     "metadata": {},
     "output_type": "execute_result"
    }
   ],
   "source": [
    "awake.head()"
   ]
  },
  {
   "cell_type": "code",
   "execution_count": 46,
   "id": "26901387",
   "metadata": {},
   "outputs": [
    {
     "data": {
      "text/html": [
       "<div>\n",
       "<style scoped>\n",
       "    .dataframe tbody tr th:only-of-type {\n",
       "        vertical-align: middle;\n",
       "    }\n",
       "\n",
       "    .dataframe tbody tr th {\n",
       "        vertical-align: top;\n",
       "    }\n",
       "\n",
       "    .dataframe thead th {\n",
       "        text-align: right;\n",
       "    }\n",
       "</style>\n",
       "<table border=\"1\" class=\"dataframe\">\n",
       "  <thead>\n",
       "    <tr style=\"text-align: right;\">\n",
       "      <th></th>\n",
       "      <th>PassengerId</th>\n",
       "      <th>HomePlanet</th>\n",
       "      <th>CryoSleep</th>\n",
       "      <th>Cabin</th>\n",
       "      <th>Destination</th>\n",
       "      <th>Age</th>\n",
       "      <th>VIP</th>\n",
       "      <th>RoomService</th>\n",
       "      <th>FoodCourt</th>\n",
       "      <th>ShoppingMall</th>\n",
       "      <th>Spa</th>\n",
       "      <th>VRDeck</th>\n",
       "      <th>Transported</th>\n",
       "      <th>Spending</th>\n",
       "      <th>Any_Spending</th>\n",
       "    </tr>\n",
       "  </thead>\n",
       "  <tbody>\n",
       "    <tr>\n",
       "      <th>PassengerId</th>\n",
       "      <td>1.000000</td>\n",
       "      <td>-0.017789</td>\n",
       "      <td>NaN</td>\n",
       "      <td>0.000215</td>\n",
       "      <td>-0.006509</td>\n",
       "      <td>-0.002531</td>\n",
       "      <td>0.009797</td>\n",
       "      <td>-0.003691</td>\n",
       "      <td>-0.013222</td>\n",
       "      <td>0.025537</td>\n",
       "      <td>-0.009368</td>\n",
       "      <td>0.017486</td>\n",
       "      <td>0.018333</td>\n",
       "      <td>0.000479</td>\n",
       "      <td>0.011839</td>\n",
       "    </tr>\n",
       "    <tr>\n",
       "      <th>HomePlanet</th>\n",
       "      <td>-0.017789</td>\n",
       "      <td>1.000000</td>\n",
       "      <td>NaN</td>\n",
       "      <td>-0.019486</td>\n",
       "      <td>0.029946</td>\n",
       "      <td>0.116088</td>\n",
       "      <td>0.171793</td>\n",
       "      <td>0.300015</td>\n",
       "      <td>0.112034</td>\n",
       "      <td>0.153643</td>\n",
       "      <td>0.090658</td>\n",
       "      <td>0.072301</td>\n",
       "      <td>-0.008014</td>\n",
       "      <td>0.246217</td>\n",
       "      <td>-0.018150</td>\n",
       "    </tr>\n",
       "    <tr>\n",
       "      <th>CryoSleep</th>\n",
       "      <td>NaN</td>\n",
       "      <td>NaN</td>\n",
       "      <td>NaN</td>\n",
       "      <td>NaN</td>\n",
       "      <td>NaN</td>\n",
       "      <td>NaN</td>\n",
       "      <td>NaN</td>\n",
       "      <td>NaN</td>\n",
       "      <td>NaN</td>\n",
       "      <td>NaN</td>\n",
       "      <td>NaN</td>\n",
       "      <td>NaN</td>\n",
       "      <td>NaN</td>\n",
       "      <td>NaN</td>\n",
       "      <td>NaN</td>\n",
       "    </tr>\n",
       "    <tr>\n",
       "      <th>Cabin</th>\n",
       "      <td>0.000215</td>\n",
       "      <td>-0.019486</td>\n",
       "      <td>NaN</td>\n",
       "      <td>1.000000</td>\n",
       "      <td>-0.002463</td>\n",
       "      <td>0.002308</td>\n",
       "      <td>-0.021580</td>\n",
       "      <td>-0.026784</td>\n",
       "      <td>0.024869</td>\n",
       "      <td>-0.013153</td>\n",
       "      <td>-0.006527</td>\n",
       "      <td>-0.002685</td>\n",
       "      <td>0.108140</td>\n",
       "      <td>0.001570</td>\n",
       "      <td>-0.002413</td>\n",
       "    </tr>\n",
       "    <tr>\n",
       "      <th>Destination</th>\n",
       "      <td>-0.006509</td>\n",
       "      <td>0.029946</td>\n",
       "      <td>NaN</td>\n",
       "      <td>-0.002463</td>\n",
       "      <td>1.000000</td>\n",
       "      <td>-0.002361</td>\n",
       "      <td>-0.056801</td>\n",
       "      <td>0.032470</td>\n",
       "      <td>-0.164544</td>\n",
       "      <td>0.009627</td>\n",
       "      <td>-0.097918</td>\n",
       "      <td>-0.119885</td>\n",
       "      <td>-0.051343</td>\n",
       "      <td>-0.182024</td>\n",
       "      <td>-0.009462</td>\n",
       "    </tr>\n",
       "    <tr>\n",
       "      <th>Age</th>\n",
       "      <td>-0.002531</td>\n",
       "      <td>0.116088</td>\n",
       "      <td>NaN</td>\n",
       "      <td>0.002308</td>\n",
       "      <td>-0.002361</td>\n",
       "      <td>1.000000</td>\n",
       "      <td>0.100624</td>\n",
       "      <td>0.068736</td>\n",
       "      <td>0.145931</td>\n",
       "      <td>0.022994</td>\n",
       "      <td>0.141523</td>\n",
       "      <td>0.111856</td>\n",
       "      <td>-0.109103</td>\n",
       "      <td>0.217987</td>\n",
       "      <td>0.418999</td>\n",
       "    </tr>\n",
       "    <tr>\n",
       "      <th>VIP</th>\n",
       "      <td>0.009797</td>\n",
       "      <td>0.171793</td>\n",
       "      <td>NaN</td>\n",
       "      <td>-0.021580</td>\n",
       "      <td>-0.056801</td>\n",
       "      <td>0.100624</td>\n",
       "      <td>1.000000</td>\n",
       "      <td>0.036898</td>\n",
       "      <td>0.117141</td>\n",
       "      <td>0.003282</td>\n",
       "      <td>0.052699</td>\n",
       "      <td>0.117144</td>\n",
       "      <td>-0.008111</td>\n",
       "      <td>0.153393</td>\n",
       "      <td>0.040186</td>\n",
       "    </tr>\n",
       "    <tr>\n",
       "      <th>RoomService</th>\n",
       "      <td>-0.003691</td>\n",
       "      <td>0.300015</td>\n",
       "      <td>NaN</td>\n",
       "      <td>-0.026784</td>\n",
       "      <td>0.032470</td>\n",
       "      <td>0.068736</td>\n",
       "      <td>0.036898</td>\n",
       "      <td>1.000000</td>\n",
       "      <td>-0.066610</td>\n",
       "      <td>0.000539</td>\n",
       "      <td>-0.037189</td>\n",
       "      <td>-0.066962</td>\n",
       "      <td>-0.174365</td>\n",
       "      <td>0.163728</td>\n",
       "      <td>0.148321</td>\n",
       "    </tr>\n",
       "    <tr>\n",
       "      <th>FoodCourt</th>\n",
       "      <td>-0.013222</td>\n",
       "      <td>0.112034</td>\n",
       "      <td>NaN</td>\n",
       "      <td>0.024869</td>\n",
       "      <td>-0.164544</td>\n",
       "      <td>0.145931</td>\n",
       "      <td>0.117141</td>\n",
       "      <td>-0.066610</td>\n",
       "      <td>1.000000</td>\n",
       "      <td>-0.059009</td>\n",
       "      <td>0.190842</td>\n",
       "      <td>0.183278</td>\n",
       "      <td>0.190390</td>\n",
       "      <td>0.735047</td>\n",
       "      <td>0.124860</td>\n",
       "    </tr>\n",
       "    <tr>\n",
       "      <th>ShoppingMall</th>\n",
       "      <td>0.025537</td>\n",
       "      <td>0.153643</td>\n",
       "      <td>NaN</td>\n",
       "      <td>-0.013153</td>\n",
       "      <td>0.009627</td>\n",
       "      <td>0.022994</td>\n",
       "      <td>0.003282</td>\n",
       "      <td>0.000539</td>\n",
       "      <td>-0.059009</td>\n",
       "      <td>1.000000</td>\n",
       "      <td>-0.028292</td>\n",
       "      <td>-0.047929</td>\n",
       "      <td>0.141417</td>\n",
       "      <td>0.158454</td>\n",
       "      <td>0.126222</td>\n",
       "    </tr>\n",
       "    <tr>\n",
       "      <th>Spa</th>\n",
       "      <td>-0.009368</td>\n",
       "      <td>0.090658</td>\n",
       "      <td>NaN</td>\n",
       "      <td>-0.006527</td>\n",
       "      <td>-0.097918</td>\n",
       "      <td>0.141523</td>\n",
       "      <td>0.052699</td>\n",
       "      <td>-0.037189</td>\n",
       "      <td>0.190842</td>\n",
       "      <td>-0.028292</td>\n",
       "      <td>1.000000</td>\n",
       "      <td>0.112318</td>\n",
       "      <td>-0.172409</td>\n",
       "      <td>0.565494</td>\n",
       "      <td>0.120953</td>\n",
       "    </tr>\n",
       "    <tr>\n",
       "      <th>VRDeck</th>\n",
       "      <td>0.017486</td>\n",
       "      <td>0.072301</td>\n",
       "      <td>NaN</td>\n",
       "      <td>-0.002685</td>\n",
       "      <td>-0.119885</td>\n",
       "      <td>0.111856</td>\n",
       "      <td>0.117144</td>\n",
       "      <td>-0.066962</td>\n",
       "      <td>0.183278</td>\n",
       "      <td>-0.047929</td>\n",
       "      <td>0.112318</td>\n",
       "      <td>1.000000</td>\n",
       "      <td>-0.155546</td>\n",
       "      <td>0.561369</td>\n",
       "      <td>0.115860</td>\n",
       "    </tr>\n",
       "    <tr>\n",
       "      <th>Transported</th>\n",
       "      <td>0.018333</td>\n",
       "      <td>-0.008014</td>\n",
       "      <td>NaN</td>\n",
       "      <td>0.108140</td>\n",
       "      <td>-0.051343</td>\n",
       "      <td>-0.109103</td>\n",
       "      <td>-0.008111</td>\n",
       "      <td>-0.174365</td>\n",
       "      <td>0.190390</td>\n",
       "      <td>0.141417</td>\n",
       "      <td>-0.172409</td>\n",
       "      <td>-0.155546</td>\n",
       "      <td>1.000000</td>\n",
       "      <td>-0.034733</td>\n",
       "      <td>-0.220817</td>\n",
       "    </tr>\n",
       "    <tr>\n",
       "      <th>Spending</th>\n",
       "      <td>0.000479</td>\n",
       "      <td>0.246217</td>\n",
       "      <td>NaN</td>\n",
       "      <td>0.001570</td>\n",
       "      <td>-0.182024</td>\n",
       "      <td>0.217987</td>\n",
       "      <td>0.153393</td>\n",
       "      <td>0.163728</td>\n",
       "      <td>0.735047</td>\n",
       "      <td>0.158454</td>\n",
       "      <td>0.565494</td>\n",
       "      <td>0.561369</td>\n",
       "      <td>-0.034733</td>\n",
       "      <td>1.000000</td>\n",
       "      <td>0.241510</td>\n",
       "    </tr>\n",
       "    <tr>\n",
       "      <th>Any_Spending</th>\n",
       "      <td>0.011839</td>\n",
       "      <td>-0.018150</td>\n",
       "      <td>NaN</td>\n",
       "      <td>-0.002413</td>\n",
       "      <td>-0.009462</td>\n",
       "      <td>0.418999</td>\n",
       "      <td>0.040186</td>\n",
       "      <td>0.148321</td>\n",
       "      <td>0.124860</td>\n",
       "      <td>0.126222</td>\n",
       "      <td>0.120953</td>\n",
       "      <td>0.115860</td>\n",
       "      <td>-0.220817</td>\n",
       "      <td>0.241510</td>\n",
       "      <td>1.000000</td>\n",
       "    </tr>\n",
       "  </tbody>\n",
       "</table>\n",
       "</div>"
      ],
      "text/plain": [
       "              PassengerId  HomePlanet  CryoSleep     Cabin  Destination  \\\n",
       "PassengerId      1.000000   -0.017789        NaN  0.000215    -0.006509   \n",
       "HomePlanet      -0.017789    1.000000        NaN -0.019486     0.029946   \n",
       "CryoSleep             NaN         NaN        NaN       NaN          NaN   \n",
       "Cabin            0.000215   -0.019486        NaN  1.000000    -0.002463   \n",
       "Destination     -0.006509    0.029946        NaN -0.002463     1.000000   \n",
       "Age             -0.002531    0.116088        NaN  0.002308    -0.002361   \n",
       "VIP              0.009797    0.171793        NaN -0.021580    -0.056801   \n",
       "RoomService     -0.003691    0.300015        NaN -0.026784     0.032470   \n",
       "FoodCourt       -0.013222    0.112034        NaN  0.024869    -0.164544   \n",
       "ShoppingMall     0.025537    0.153643        NaN -0.013153     0.009627   \n",
       "Spa             -0.009368    0.090658        NaN -0.006527    -0.097918   \n",
       "VRDeck           0.017486    0.072301        NaN -0.002685    -0.119885   \n",
       "Transported      0.018333   -0.008014        NaN  0.108140    -0.051343   \n",
       "Spending         0.000479    0.246217        NaN  0.001570    -0.182024   \n",
       "Any_Spending     0.011839   -0.018150        NaN -0.002413    -0.009462   \n",
       "\n",
       "                   Age       VIP  RoomService  FoodCourt  ShoppingMall  \\\n",
       "PassengerId  -0.002531  0.009797    -0.003691  -0.013222      0.025537   \n",
       "HomePlanet    0.116088  0.171793     0.300015   0.112034      0.153643   \n",
       "CryoSleep          NaN       NaN          NaN        NaN           NaN   \n",
       "Cabin         0.002308 -0.021580    -0.026784   0.024869     -0.013153   \n",
       "Destination  -0.002361 -0.056801     0.032470  -0.164544      0.009627   \n",
       "Age           1.000000  0.100624     0.068736   0.145931      0.022994   \n",
       "VIP           0.100624  1.000000     0.036898   0.117141      0.003282   \n",
       "RoomService   0.068736  0.036898     1.000000  -0.066610      0.000539   \n",
       "FoodCourt     0.145931  0.117141    -0.066610   1.000000     -0.059009   \n",
       "ShoppingMall  0.022994  0.003282     0.000539  -0.059009      1.000000   \n",
       "Spa           0.141523  0.052699    -0.037189   0.190842     -0.028292   \n",
       "VRDeck        0.111856  0.117144    -0.066962   0.183278     -0.047929   \n",
       "Transported  -0.109103 -0.008111    -0.174365   0.190390      0.141417   \n",
       "Spending      0.217987  0.153393     0.163728   0.735047      0.158454   \n",
       "Any_Spending  0.418999  0.040186     0.148321   0.124860      0.126222   \n",
       "\n",
       "                   Spa    VRDeck  Transported  Spending  Any_Spending  \n",
       "PassengerId  -0.009368  0.017486     0.018333  0.000479      0.011839  \n",
       "HomePlanet    0.090658  0.072301    -0.008014  0.246217     -0.018150  \n",
       "CryoSleep          NaN       NaN          NaN       NaN           NaN  \n",
       "Cabin        -0.006527 -0.002685     0.108140  0.001570     -0.002413  \n",
       "Destination  -0.097918 -0.119885    -0.051343 -0.182024     -0.009462  \n",
       "Age           0.141523  0.111856    -0.109103  0.217987      0.418999  \n",
       "VIP           0.052699  0.117144    -0.008111  0.153393      0.040186  \n",
       "RoomService  -0.037189 -0.066962    -0.174365  0.163728      0.148321  \n",
       "FoodCourt     0.190842  0.183278     0.190390  0.735047      0.124860  \n",
       "ShoppingMall -0.028292 -0.047929     0.141417  0.158454      0.126222  \n",
       "Spa           1.000000  0.112318    -0.172409  0.565494      0.120953  \n",
       "VRDeck        0.112318  1.000000    -0.155546  0.561369      0.115860  \n",
       "Transported  -0.172409 -0.155546     1.000000 -0.034733     -0.220817  \n",
       "Spending      0.565494  0.561369    -0.034733  1.000000      0.241510  \n",
       "Any_Spending  0.120953  0.115860    -0.220817  0.241510      1.000000  "
      ]
     },
     "execution_count": 46,
     "metadata": {},
     "output_type": "execute_result"
    }
   ],
   "source": [
    "awake.corr()"
   ]
  },
  {
   "cell_type": "code",
   "execution_count": 47,
   "id": "cee5365d",
   "metadata": {},
   "outputs": [
    {
     "data": {
      "image/png": "[encoded data removed]",
      "text/plain": [
       "<Figure size 864x576 with 2 Axes>"
      ]
     },
     "metadata": {
      "needs_background": "light"
     },
     "output_type": "display_data"
    }
   ],
   "source": [
    "corr_matrix = awake.corr()\n",
    "sns.heatmap(corr_matrix, annot=True)\n",
    "plt.title(\"Correlations Heat Map\")\n",
    "plt.xlabel(\"Feature\")\n",
    "plt.ylabel(\"Feature\")\n",
    "plt.show()"
   ]
  },
  {
   "cell_type": "code",
   "execution_count": 48,
   "id": "040e7ac6",
   "metadata": {},
   "outputs": [
    {
     "data": {
      "text/plain": [
       "<AxesSubplot:xlabel='Age', ylabel='Spending'>"
      ]
     },
     "execution_count": 48,
     "metadata": {},
     "output_type": "execute_result"
    },
    {
     "data": {
      "image/png": "[encoded data removed]",
      "text/plain": [
       "<Figure size 864x576 with 1 Axes>"
      ]
     },
     "metadata": {
      "needs_background": "light"
     },
     "output_type": "display_data"
    }
   ],
   "source": [
    "sns.scatterplot(data=awake, x=\"Age\", y=\"Spending\", hue=\"Transported\")"
   ]
  },
  {
   "cell_type": "code",
   "execution_count": 49,
   "id": "5bc3c204",
   "metadata": {},
   "outputs": [
    {
     "data": {
      "text/html": [
       "<div>\n",
       "<style scoped>\n",
       "    .dataframe tbody tr th:only-of-type {\n",
       "        vertical-align: middle;\n",
       "    }\n",
       "\n",
       "    .dataframe tbody tr th {\n",
       "        vertical-align: top;\n",
       "    }\n",
       "\n",
       "    .dataframe thead th {\n",
       "        text-align: right;\n",
       "    }\n",
       "</style>\n",
       "<table border=\"1\" class=\"dataframe\">\n",
       "  <thead>\n",
       "    <tr style=\"text-align: right;\">\n",
       "      <th></th>\n",
       "      <th>PassengerId</th>\n",
       "      <th>HomePlanet</th>\n",
       "      <th>CryoSleep</th>\n",
       "      <th>Cabin</th>\n",
       "      <th>Destination</th>\n",
       "      <th>Age</th>\n",
       "      <th>VIP</th>\n",
       "      <th>RoomService</th>\n",
       "      <th>FoodCourt</th>\n",
       "      <th>ShoppingMall</th>\n",
       "      <th>Spa</th>\n",
       "      <th>VRDeck</th>\n",
       "      <th>Transported</th>\n",
       "      <th>Spending</th>\n",
       "      <th>Any_Spending</th>\n",
       "    </tr>\n",
       "  </thead>\n",
       "  <tbody>\n",
       "    <tr>\n",
       "      <th>0</th>\n",
       "      <td>0</td>\n",
       "      <td>1</td>\n",
       "      <td>False</td>\n",
       "      <td>1</td>\n",
       "      <td>2</td>\n",
       "      <td>39.0</td>\n",
       "      <td>False</td>\n",
       "      <td>0.0</td>\n",
       "      <td>0.0</td>\n",
       "      <td>0.0</td>\n",
       "      <td>0.0</td>\n",
       "      <td>0.0</td>\n",
       "      <td>False</td>\n",
       "      <td>0.0</td>\n",
       "      <td>False</td>\n",
       "    </tr>\n",
       "    <tr>\n",
       "      <th>1</th>\n",
       "      <td>1</td>\n",
       "      <td>0</td>\n",
       "      <td>False</td>\n",
       "      <td>2</td>\n",
       "      <td>2</td>\n",
       "      <td>24.0</td>\n",
       "      <td>False</td>\n",
       "      <td>109.0</td>\n",
       "      <td>9.0</td>\n",
       "      <td>25.0</td>\n",
       "      <td>549.0</td>\n",
       "      <td>44.0</td>\n",
       "      <td>True</td>\n",
       "      <td>736.0</td>\n",
       "      <td>True</td>\n",
       "    </tr>\n",
       "    <tr>\n",
       "      <th>2</th>\n",
       "      <td>2</td>\n",
       "      <td>1</td>\n",
       "      <td>False</td>\n",
       "      <td>2</td>\n",
       "      <td>2</td>\n",
       "      <td>58.0</td>\n",
       "      <td>True</td>\n",
       "      <td>43.0</td>\n",
       "      <td>3576.0</td>\n",
       "      <td>0.0</td>\n",
       "      <td>6715.0</td>\n",
       "      <td>49.0</td>\n",
       "      <td>False</td>\n",
       "      <td>10383.0</td>\n",
       "      <td>True</td>\n",
       "    </tr>\n",
       "    <tr>\n",
       "      <th>3</th>\n",
       "      <td>3</td>\n",
       "      <td>1</td>\n",
       "      <td>False</td>\n",
       "      <td>2</td>\n",
       "      <td>2</td>\n",
       "      <td>33.0</td>\n",
       "      <td>False</td>\n",
       "      <td>0.0</td>\n",
       "      <td>1283.0</td>\n",
       "      <td>371.0</td>\n",
       "      <td>3329.0</td>\n",
       "      <td>193.0</td>\n",
       "      <td>False</td>\n",
       "      <td>5176.0</td>\n",
       "      <td>True</td>\n",
       "    </tr>\n",
       "    <tr>\n",
       "      <th>4</th>\n",
       "      <td>4</td>\n",
       "      <td>0</td>\n",
       "      <td>False</td>\n",
       "      <td>2</td>\n",
       "      <td>2</td>\n",
       "      <td>16.0</td>\n",
       "      <td>False</td>\n",
       "      <td>303.0</td>\n",
       "      <td>70.0</td>\n",
       "      <td>151.0</td>\n",
       "      <td>565.0</td>\n",
       "      <td>2.0</td>\n",
       "      <td>True</td>\n",
       "      <td>1091.0</td>\n",
       "      <td>True</td>\n",
       "    </tr>\n",
       "  </tbody>\n",
       "</table>\n",
       "</div>"
      ],
      "text/plain": [
       "   PassengerId  HomePlanet  CryoSleep  Cabin  Destination   Age    VIP  \\\n",
       "0            0           1      False      1            2  39.0  False   \n",
       "1            1           0      False      2            2  24.0  False   \n",
       "2            2           1      False      2            2  58.0   True   \n",
       "3            3           1      False      2            2  33.0  False   \n",
       "4            4           0      False      2            2  16.0  False   \n",
       "\n",
       "   RoomService  FoodCourt  ShoppingMall     Spa  VRDeck  Transported  \\\n",
       "0          0.0        0.0           0.0     0.0     0.0        False   \n",
       "1        109.0        9.0          25.0   549.0    44.0         True   \n",
       "2         43.0     3576.0           0.0  6715.0    49.0        False   \n",
       "3          0.0     1283.0         371.0  3329.0   193.0        False   \n",
       "4        303.0       70.0         151.0   565.0     2.0         True   \n",
       "\n",
       "   Spending  Any_Spending  \n",
       "0       0.0         False  \n",
       "1     736.0          True  \n",
       "2   10383.0          True  \n",
       "3    5176.0          True  \n",
       "4    1091.0          True  "
      ]
     },
     "execution_count": 49,
     "metadata": {},
     "output_type": "execute_result"
    }
   ],
   "source": [
    "df.head()"
   ]
  },
  {
   "cell_type": "code",
   "execution_count": null,
   "id": "c294bb3a",
   "metadata": {},
   "outputs": [],
   "source": [
    "#try logistic regression, k-nearest neighbour, and decision tree\n",
    "#with features: Cryo Sleep, Cabin, and Any_Spending"
   ]
  },
  {
   "cell_type": "code",
   "execution_count": 50,
   "id": "0deae742",
   "metadata": {},
   "outputs": [],
   "source": [
    "from sklearn.linear_model import LogisticRegression\n",
    "from sklearn.model_selection import train_test_split\n",
    "\n",
    "X=df[['CryoSleep', 'Cabin', 'Any_Spending']]\n",
    "y=df[['Transported']]\n",
    "\n",
    "train_X, val_X, train_y, val_y = train_test_split(X, y, random_state = 0)\n",
    "\n",
    "reg = LogisticRegression().fit(train_X, train_y.values.ravel())"
   ]
  },
  {
   "cell_type": "code",
   "execution_count": 51,
   "id": "e910c20b",
   "metadata": {},
   "outputs": [
    {
     "name": "stdout",
     "output_type": "stream",
     "text": [
      "0.2805896805896806\n"
     ]
    }
   ],
   "source": [
    "#Model validation\n",
    "#note to self: use mean_squared_error where the problem from being further off the true value increases with distance\n",
    "#not needed here because it's binary either right or wrong\n",
    "from sklearn.metrics import mean_absolute_error\n",
    "val_predictions = reg.predict(val_X)\n",
    "print(mean_absolute_error(val_y, val_predictions))"
   ]
  },
  {
   "cell_type": "code",
   "execution_count": 56,
   "id": "ddd2fb5f",
   "metadata": {},
   "outputs": [
    {
     "name": "stdout",
     "output_type": "stream",
     "text": [
      "0.7408681408681409\n"
     ]
    }
   ],
   "source": [
    "score = reg.score(train_X, train_y)\n",
    "print(score)"
   ]
  },
  {
   "cell_type": "code",
   "execution_count": 57,
   "id": "9ad4f59f",
   "metadata": {},
   "outputs": [
    {
     "data": {
      "text/plain": [
       "DecisionTreeRegressor(random_state=1)"
      ]
     },
     "execution_count": 57,
     "metadata": {},
     "output_type": "execute_result"
    }
   ],
   "source": [
    "from sklearn.tree import DecisionTreeRegressor\n",
    "decision_model = DecisionTreeRegressor(random_state=1)\n",
    "decision_model.fit(train_X, train_y)"
   ]
  },
  {
   "cell_type": "code",
   "execution_count": 58,
   "id": "2dcda72c",
   "metadata": {},
   "outputs": [
    {
     "name": "stdout",
     "output_type": "stream",
     "text": [
      "0.3801255361679732\n"
     ]
    }
   ],
   "source": [
    "val_predictions = decision_model.predict(val_X)\n",
    "print(mean_absolute_error(val_y, val_predictions))"
   ]
  },
  {
   "cell_type": "code",
   "execution_count": 59,
   "id": "7f965fa4",
   "metadata": {},
   "outputs": [
    {
     "name": "stdout",
     "output_type": "stream",
     "text": [
      "0.25465814639782147\n"
     ]
    }
   ],
   "source": [
    "score = decision_model.score(train_X, train_y)\n",
    "print(score)"
   ]
  },
  {
   "cell_type": "code",
   "execution_count": 61,
   "id": "b41f21c2",
   "metadata": {},
   "outputs": [
    {
     "data": {
      "text/plain": [
       "KNeighborsClassifier(n_neighbors=3)"
      ]
     },
     "execution_count": 61,
     "metadata": {},
     "output_type": "execute_result"
    }
   ],
   "source": [
    "from sklearn.neighbors import KNeighborsClassifier\n",
    "neigh = KNeighborsClassifier(n_neighbors=3)\n",
    "neigh.fit(train_X, train_y.values.ravel())"
   ]
  },
  {
   "cell_type": "code",
   "execution_count": 62,
   "id": "a5a4013c",
   "metadata": {
    "scrolled": true
   },
   "outputs": [
    {
     "name": "stdout",
     "output_type": "stream",
     "text": [
      "0.3415233415233415\n"
     ]
    }
   ],
   "source": [
    "val_predictions = neigh.predict(val_X)\n",
    "print(mean_absolute_error(val_y, val_predictions))"
   ]
  },
  {
   "cell_type": "code",
   "execution_count": 63,
   "id": "026c9bb8",
   "metadata": {},
   "outputs": [
    {
     "name": "stdout",
     "output_type": "stream",
     "text": [
      "0.6511056511056511\n"
     ]
    }
   ],
   "source": [
    "score = neigh.score(train_X, train_y)\n",
    "print(score)"
   ]
  },
  {
   "cell_type": "code",
   "execution_count": null,
   "id": "0a7bd29e",
   "metadata": {},
   "outputs": [],
   "source": [
    "#logistic regression had the lowest error"
   ]
  },
  {
   "cell_type": "code",
   "execution_count": 64,
   "id": "146e0f84",
   "metadata": {},
   "outputs": [],
   "source": [
    "#try adding in more features to see whether that improves the score\n",
    "X_more=df[['CryoSleep', 'Cabin', 'Any_Spending', 'Destination', 'Age']]\n",
    "train_X_more, val_X_more, train_y, val_y = train_test_split(X_more, y, random_state = 2)\n",
    "reg_more = LogisticRegression().fit(train_X_more, train_y.values.ravel())"
   ]
  },
  {
   "cell_type": "code",
   "execution_count": 65,
   "id": "e8de99da",
   "metadata": {},
   "outputs": [
    {
     "name": "stdout",
     "output_type": "stream",
     "text": [
      "0.26388206388206387\n"
     ]
    }
   ],
   "source": [
    "val_predictions = reg_more.predict(val_X_more)\n",
    "print(mean_absolute_error(val_y, val_predictions))"
   ]
  },
  {
   "cell_type": "code",
   "execution_count": 66,
   "id": "a4bbee1a",
   "metadata": {},
   "outputs": [
    {
     "name": "stdout",
     "output_type": "stream",
     "text": [
      "0.7352989352989353\n"
     ]
    }
   ],
   "source": [
    "score = reg_more.score(train_X_more, train_y)\n",
    "print(score)"
   ]
  },
  {
   "cell_type": "code",
   "execution_count": 67,
   "id": "2fd29d02",
   "metadata": {},
   "outputs": [],
   "source": [
    "#try fewer features\n",
    "X_less=df[['CryoSleep', 'Any_Spending']]\n",
    "train_X_less, val_X_less, train_y, val_y = train_test_split(X_less, y, random_state = 3)\n",
    "reg_less = LogisticRegression().fit(train_X_less, train_y.values.ravel())"
   ]
  },
  {
   "cell_type": "code",
   "execution_count": 68,
   "id": "baba4677",
   "metadata": {},
   "outputs": [
    {
     "name": "stdout",
     "output_type": "stream",
     "text": [
      "0.2520884520884521\n"
     ]
    }
   ],
   "source": [
    "val_predictions = reg_less.predict(val_X_less)\n",
    "print(mean_absolute_error(val_y, val_predictions))"
   ]
  },
  {
   "cell_type": "code",
   "execution_count": 69,
   "id": "e12b3972",
   "metadata": {},
   "outputs": [
    {
     "name": "stdout",
     "output_type": "stream",
     "text": [
      "0.7313677313677314\n"
     ]
    }
   ],
   "source": [
    "score = reg_less.score(train_X_less, train_y)\n",
    "print(score)"
   ]
  },
  {
   "cell_type": "code",
   "execution_count": 70,
   "id": "b8d40a65",
   "metadata": {},
   "outputs": [],
   "source": [
    "#try spending features\n",
    "X_spending=df[['CryoSleep', 'RoomService', 'FoodCourt', 'ShoppingMall', 'Spa', 'VRDeck']]\n",
    "train_X_spending, val_X_spending, train_y, val_y = train_test_split(X_spending, y, random_state = 5)\n",
    "reg_spending = LogisticRegression().fit(train_X_spending, train_y.values.ravel())"
   ]
  },
  {
   "cell_type": "code",
   "execution_count": 71,
   "id": "969e3c60",
   "metadata": {},
   "outputs": [
    {
     "name": "stdout",
     "output_type": "stream",
     "text": [
      "0.23292383292383292\n"
     ]
    }
   ],
   "source": [
    "val_predictions = reg_spending.predict(val_X_spending)\n",
    "print(mean_absolute_error(val_y, val_predictions))"
   ]
  },
  {
   "cell_type": "code",
   "execution_count": 72,
   "id": "26b4a976",
   "metadata": {},
   "outputs": [
    {
     "name": "stdout",
     "output_type": "stream",
     "text": [
      "0.7769041769041769\n"
     ]
    }
   ],
   "source": [
    "score = reg_spending.score(train_X_spending, train_y)\n",
    "print(score)"
   ]
  },
  {
   "cell_type": "code",
   "execution_count": 75,
   "id": "68e4e0d9",
   "metadata": {},
   "outputs": [],
   "source": [
    "#try all features with correlation above 0.1\n",
    "X_all=df[['CryoSleep', 'RoomService', 'Spa', 'VRDeck', 'HomePlanet', 'Destination']]\n",
    "train_X_all, val_X_all, train_y, val_y = train_test_split(X_all, y, random_state = 5)\n",
    "reg_all = LogisticRegression().fit(train_X_all, train_y.values.ravel())"
   ]
  },
  {
   "cell_type": "code",
   "execution_count": 76,
   "id": "681934c9",
   "metadata": {},
   "outputs": [
    {
     "name": "stdout",
     "output_type": "stream",
     "text": [
      "0.2457002457002457\n"
     ]
    }
   ],
   "source": [
    "val_predictions = reg_all.predict(val_X_all)\n",
    "print(mean_absolute_error(val_y, val_predictions))"
   ]
  },
  {
   "cell_type": "code",
   "execution_count": 83,
   "id": "07ee47fe",
   "metadata": {
    "scrolled": true
   },
   "outputs": [
    {
     "name": "stdout",
     "output_type": "stream",
     "text": [
      "0.7575757575757576\n"
     ]
    }
   ],
   "source": [
    "score = reg_all.score(train_X_all, train_y)\n",
    "print(score)"
   ]
  },
  {
   "cell_type": "code",
   "execution_count": 81,
   "id": "80288402",
   "metadata": {},
   "outputs": [
    {
     "name": "stdout",
     "output_type": "stream",
     "text": [
      "tuned hpyerparameters :(best parameters)  {'C': 1.0, 'penalty': 'l1', 'solver': 'liblinear'}\n",
      "accuracy : 0.7773899278259238\n"
     ]
    }
   ],
   "source": [
    "#Grid Search Cross Validation\n",
    "from sklearn.model_selection import GridSearchCV\n",
    "\n",
    "grid={\"C\":np.logspace(-3,3,7), \"penalty\":[\"l1\"], \"solver\": ['liblinear']}\n",
    "logreg=LogisticRegression()\n",
    "logreg_cv=GridSearchCV(logreg,grid,cv=10)\n",
    "logreg_cv.fit(train_X_spending, train_y.values.ravel())\n",
    "\n",
    "print(\"tuned hpyerparameters :(best parameters) \",logreg_cv.best_params_)\n",
    "print(\"accuracy :\",logreg_cv.best_score_)"
   ]
  },
  {
   "cell_type": "code",
   "execution_count": 84,
   "id": "ee069d73",
   "metadata": {},
   "outputs": [
    {
     "data": {
      "text/html": [
       "<div>\n",
       "<style scoped>\n",
       "    .dataframe tbody tr th:only-of-type {\n",
       "        vertical-align: middle;\n",
       "    }\n",
       "\n",
       "    .dataframe tbody tr th {\n",
       "        vertical-align: top;\n",
       "    }\n",
       "\n",
       "    .dataframe thead th {\n",
       "        text-align: right;\n",
       "    }\n",
       "</style>\n",
       "<table border=\"1\" class=\"dataframe\">\n",
       "  <thead>\n",
       "    <tr style=\"text-align: right;\">\n",
       "      <th></th>\n",
       "      <th>PassengerId</th>\n",
       "      <th>HomePlanet</th>\n",
       "      <th>CryoSleep</th>\n",
       "      <th>Cabin</th>\n",
       "      <th>Destination</th>\n",
       "      <th>Age</th>\n",
       "      <th>VIP</th>\n",
       "      <th>RoomService</th>\n",
       "      <th>FoodCourt</th>\n",
       "      <th>ShoppingMall</th>\n",
       "      <th>Spa</th>\n",
       "      <th>VRDeck</th>\n",
       "      <th>Name</th>\n",
       "    </tr>\n",
       "  </thead>\n",
       "  <tbody>\n",
       "    <tr>\n",
       "      <th>0</th>\n",
       "      <td>0013_01</td>\n",
       "      <td>Earth</td>\n",
       "      <td>True</td>\n",
       "      <td>G/3/S</td>\n",
       "      <td>TRAPPIST-1e</td>\n",
       "      <td>27.0</td>\n",
       "      <td>False</td>\n",
       "      <td>0.0</td>\n",
       "      <td>0.0</td>\n",
       "      <td>0.0</td>\n",
       "      <td>0.0</td>\n",
       "      <td>0.0</td>\n",
       "      <td>Nelly Carsoning</td>\n",
       "    </tr>\n",
       "    <tr>\n",
       "      <th>1</th>\n",
       "      <td>0018_01</td>\n",
       "      <td>Earth</td>\n",
       "      <td>False</td>\n",
       "      <td>F/4/S</td>\n",
       "      <td>TRAPPIST-1e</td>\n",
       "      <td>19.0</td>\n",
       "      <td>False</td>\n",
       "      <td>0.0</td>\n",
       "      <td>9.0</td>\n",
       "      <td>0.0</td>\n",
       "      <td>2823.0</td>\n",
       "      <td>0.0</td>\n",
       "      <td>Lerome Peckers</td>\n",
       "    </tr>\n",
       "    <tr>\n",
       "      <th>2</th>\n",
       "      <td>0019_01</td>\n",
       "      <td>Europa</td>\n",
       "      <td>True</td>\n",
       "      <td>C/0/S</td>\n",
       "      <td>55 Cancri e</td>\n",
       "      <td>31.0</td>\n",
       "      <td>False</td>\n",
       "      <td>0.0</td>\n",
       "      <td>0.0</td>\n",
       "      <td>0.0</td>\n",
       "      <td>0.0</td>\n",
       "      <td>0.0</td>\n",
       "      <td>Sabih Unhearfus</td>\n",
       "    </tr>\n",
       "    <tr>\n",
       "      <th>3</th>\n",
       "      <td>0021_01</td>\n",
       "      <td>Europa</td>\n",
       "      <td>False</td>\n",
       "      <td>C/1/S</td>\n",
       "      <td>TRAPPIST-1e</td>\n",
       "      <td>38.0</td>\n",
       "      <td>False</td>\n",
       "      <td>0.0</td>\n",
       "      <td>6652.0</td>\n",
       "      <td>0.0</td>\n",
       "      <td>181.0</td>\n",
       "      <td>585.0</td>\n",
       "      <td>Meratz Caltilter</td>\n",
       "    </tr>\n",
       "    <tr>\n",
       "      <th>4</th>\n",
       "      <td>0023_01</td>\n",
       "      <td>Earth</td>\n",
       "      <td>False</td>\n",
       "      <td>F/5/S</td>\n",
       "      <td>TRAPPIST-1e</td>\n",
       "      <td>20.0</td>\n",
       "      <td>False</td>\n",
       "      <td>10.0</td>\n",
       "      <td>0.0</td>\n",
       "      <td>635.0</td>\n",
       "      <td>0.0</td>\n",
       "      <td>0.0</td>\n",
       "      <td>Brence Harperez</td>\n",
       "    </tr>\n",
       "  </tbody>\n",
       "</table>\n",
       "</div>"
      ],
      "text/plain": [
       "  PassengerId HomePlanet CryoSleep  Cabin  Destination   Age    VIP  \\\n",
       "0     0013_01      Earth      True  G/3/S  TRAPPIST-1e  27.0  False   \n",
       "1     0018_01      Earth     False  F/4/S  TRAPPIST-1e  19.0  False   \n",
       "2     0019_01     Europa      True  C/0/S  55 Cancri e  31.0  False   \n",
       "3     0021_01     Europa     False  C/1/S  TRAPPIST-1e  38.0  False   \n",
       "4     0023_01      Earth     False  F/5/S  TRAPPIST-1e  20.0  False   \n",
       "\n",
       "   RoomService  FoodCourt  ShoppingMall     Spa  VRDeck              Name  \n",
       "0          0.0        0.0           0.0     0.0     0.0   Nelly Carsoning  \n",
       "1          0.0        9.0           0.0  2823.0     0.0    Lerome Peckers  \n",
       "2          0.0        0.0           0.0     0.0     0.0   Sabih Unhearfus  \n",
       "3          0.0     6652.0           0.0   181.0   585.0  Meratz Caltilter  \n",
       "4         10.0        0.0         635.0     0.0     0.0   Brence Harperez  "
      ]
     },
     "execution_count": 84,
     "metadata": {},
     "output_type": "execute_result"
    }
   ],
   "source": [
    "test.head()"
   ]
  },
  {
   "cell_type": "code",
   "execution_count": 85,
   "id": "aacbaae4",
   "metadata": {},
   "outputs": [],
   "source": [
    "test['CryoSleep'] = test['CryoSleep'].fillna(False)\n",
    "test['RoomService'] = test['RoomService'].fillna(0)\n",
    "test['FoodCourt'] = test['FoodCourt'].fillna(0)\n",
    "test['ShoppingMall'] = test['ShoppingMall'].fillna(0)\n",
    "test['Spa'] = test['Spa'].fillna(0)\n",
    "test['VRDeck'] = test['VRDeck'].fillna(0)"
   ]
  },
  {
   "cell_type": "code",
   "execution_count": 86,
   "id": "30611767",
   "metadata": {},
   "outputs": [
    {
     "data": {
      "text/html": [
       "<div>\n",
       "<style scoped>\n",
       "    .dataframe tbody tr th:only-of-type {\n",
       "        vertical-align: middle;\n",
       "    }\n",
       "\n",
       "    .dataframe tbody tr th {\n",
       "        vertical-align: top;\n",
       "    }\n",
       "\n",
       "    .dataframe thead th {\n",
       "        text-align: right;\n",
       "    }\n",
       "</style>\n",
       "<table border=\"1\" class=\"dataframe\">\n",
       "  <thead>\n",
       "    <tr style=\"text-align: right;\">\n",
       "      <th></th>\n",
       "      <th>PassengerId</th>\n",
       "      <th>HomePlanet</th>\n",
       "      <th>CryoSleep</th>\n",
       "      <th>Cabin</th>\n",
       "      <th>Destination</th>\n",
       "      <th>Age</th>\n",
       "      <th>VIP</th>\n",
       "      <th>RoomService</th>\n",
       "      <th>FoodCourt</th>\n",
       "      <th>ShoppingMall</th>\n",
       "      <th>Spa</th>\n",
       "      <th>VRDeck</th>\n",
       "      <th>Name</th>\n",
       "    </tr>\n",
       "  </thead>\n",
       "  <tbody>\n",
       "    <tr>\n",
       "      <th>0</th>\n",
       "      <td>0</td>\n",
       "      <td>0</td>\n",
       "      <td>True</td>\n",
       "      <td>2784</td>\n",
       "      <td>2</td>\n",
       "      <td>27.0</td>\n",
       "      <td>0</td>\n",
       "      <td>0.0</td>\n",
       "      <td>0.0</td>\n",
       "      <td>0.0</td>\n",
       "      <td>0.0</td>\n",
       "      <td>0.0</td>\n",
       "      <td>2912</td>\n",
       "    </tr>\n",
       "    <tr>\n",
       "      <th>1</th>\n",
       "      <td>1</td>\n",
       "      <td>0</td>\n",
       "      <td>False</td>\n",
       "      <td>1867</td>\n",
       "      <td>2</td>\n",
       "      <td>19.0</td>\n",
       "      <td>0</td>\n",
       "      <td>0.0</td>\n",
       "      <td>9.0</td>\n",
       "      <td>0.0</td>\n",
       "      <td>2823.0</td>\n",
       "      <td>0.0</td>\n",
       "      <td>2406</td>\n",
       "    </tr>\n",
       "    <tr>\n",
       "      <th>2</th>\n",
       "      <td>2</td>\n",
       "      <td>1</td>\n",
       "      <td>True</td>\n",
       "      <td>257</td>\n",
       "      <td>0</td>\n",
       "      <td>31.0</td>\n",
       "      <td>0</td>\n",
       "      <td>0.0</td>\n",
       "      <td>0.0</td>\n",
       "      <td>0.0</td>\n",
       "      <td>0.0</td>\n",
       "      <td>0.0</td>\n",
       "      <td>3376</td>\n",
       "    </tr>\n",
       "    <tr>\n",
       "      <th>3</th>\n",
       "      <td>3</td>\n",
       "      <td>1</td>\n",
       "      <td>False</td>\n",
       "      <td>259</td>\n",
       "      <td>2</td>\n",
       "      <td>38.0</td>\n",
       "      <td>0</td>\n",
       "      <td>0.0</td>\n",
       "      <td>6652.0</td>\n",
       "      <td>0.0</td>\n",
       "      <td>181.0</td>\n",
       "      <td>585.0</td>\n",
       "      <td>2711</td>\n",
       "    </tr>\n",
       "    <tr>\n",
       "      <th>4</th>\n",
       "      <td>4</td>\n",
       "      <td>0</td>\n",
       "      <td>False</td>\n",
       "      <td>1940</td>\n",
       "      <td>2</td>\n",
       "      <td>20.0</td>\n",
       "      <td>0</td>\n",
       "      <td>10.0</td>\n",
       "      <td>0.0</td>\n",
       "      <td>635.0</td>\n",
       "      <td>0.0</td>\n",
       "      <td>0.0</td>\n",
       "      <td>668</td>\n",
       "    </tr>\n",
       "  </tbody>\n",
       "</table>\n",
       "</div>"
      ],
      "text/plain": [
       "   PassengerId  HomePlanet  CryoSleep  Cabin  Destination   Age  VIP  \\\n",
       "0            0           0       True   2784            2  27.0    0   \n",
       "1            1           0      False   1867            2  19.0    0   \n",
       "2            2           1       True    257            0  31.0    0   \n",
       "3            3           1      False    259            2  38.0    0   \n",
       "4            4           0      False   1940            2  20.0    0   \n",
       "\n",
       "   RoomService  FoodCourt  ShoppingMall     Spa  VRDeck  Name  \n",
       "0          0.0        0.0           0.0     0.0     0.0  2912  \n",
       "1          0.0        9.0           0.0  2823.0     0.0  2406  \n",
       "2          0.0        0.0           0.0     0.0     0.0  3376  \n",
       "3          0.0     6652.0           0.0   181.0   585.0  2711  \n",
       "4         10.0        0.0         635.0     0.0     0.0   668  "
      ]
     },
     "execution_count": 86,
     "metadata": {},
     "output_type": "execute_result"
    }
   ],
   "source": [
    "test = test\n",
    "for col_name in test.columns:\n",
    "    if(test[col_name].dtype == \"object\"):\n",
    "        test[col_name] = test[col_name].astype(\"category\")\n",
    "        test[col_name] = test[col_name].cat.codes\n",
    "        \n",
    "test.head()"
   ]
  },
  {
   "cell_type": "code",
   "execution_count": 87,
   "id": "5e9beb95",
   "metadata": {},
   "outputs": [],
   "source": [
    "X_test = test[['CryoSleep', 'RoomService', 'FoodCourt', 'ShoppingMall', 'Spa', 'VRDeck']]"
   ]
  },
  {
   "cell_type": "code",
   "execution_count": 88,
   "id": "5fd75ab3",
   "metadata": {
    "scrolled": false
   },
   "outputs": [
    {
     "data": {
      "text/html": [
       "<div>\n",
       "<style scoped>\n",
       "    .dataframe tbody tr th:only-of-type {\n",
       "        vertical-align: middle;\n",
       "    }\n",
       "\n",
       "    .dataframe tbody tr th {\n",
       "        vertical-align: top;\n",
       "    }\n",
       "\n",
       "    .dataframe thead th {\n",
       "        text-align: right;\n",
       "    }\n",
       "</style>\n",
       "<table border=\"1\" class=\"dataframe\">\n",
       "  <thead>\n",
       "    <tr style=\"text-align: right;\">\n",
       "      <th></th>\n",
       "      <th>PassengerId</th>\n",
       "      <th>HomePlanet</th>\n",
       "      <th>CryoSleep</th>\n",
       "      <th>Cabin</th>\n",
       "      <th>Destination</th>\n",
       "      <th>Age</th>\n",
       "      <th>VIP</th>\n",
       "      <th>RoomService</th>\n",
       "      <th>FoodCourt</th>\n",
       "      <th>ShoppingMall</th>\n",
       "      <th>Spa</th>\n",
       "      <th>VRDeck</th>\n",
       "      <th>Name</th>\n",
       "      <th>Transported</th>\n",
       "    </tr>\n",
       "  </thead>\n",
       "  <tbody>\n",
       "    <tr>\n",
       "      <th>0</th>\n",
       "      <td>0</td>\n",
       "      <td>0</td>\n",
       "      <td>True</td>\n",
       "      <td>2784</td>\n",
       "      <td>2</td>\n",
       "      <td>27.0</td>\n",
       "      <td>0</td>\n",
       "      <td>0.0</td>\n",
       "      <td>0.0</td>\n",
       "      <td>0.0</td>\n",
       "      <td>0.0</td>\n",
       "      <td>0.0</td>\n",
       "      <td>2912</td>\n",
       "      <td>True</td>\n",
       "    </tr>\n",
       "    <tr>\n",
       "      <th>1</th>\n",
       "      <td>1</td>\n",
       "      <td>0</td>\n",
       "      <td>False</td>\n",
       "      <td>1867</td>\n",
       "      <td>2</td>\n",
       "      <td>19.0</td>\n",
       "      <td>0</td>\n",
       "      <td>0.0</td>\n",
       "      <td>9.0</td>\n",
       "      <td>0.0</td>\n",
       "      <td>2823.0</td>\n",
       "      <td>0.0</td>\n",
       "      <td>2406</td>\n",
       "      <td>False</td>\n",
       "    </tr>\n",
       "    <tr>\n",
       "      <th>2</th>\n",
       "      <td>2</td>\n",
       "      <td>1</td>\n",
       "      <td>True</td>\n",
       "      <td>257</td>\n",
       "      <td>0</td>\n",
       "      <td>31.0</td>\n",
       "      <td>0</td>\n",
       "      <td>0.0</td>\n",
       "      <td>0.0</td>\n",
       "      <td>0.0</td>\n",
       "      <td>0.0</td>\n",
       "      <td>0.0</td>\n",
       "      <td>3376</td>\n",
       "      <td>True</td>\n",
       "    </tr>\n",
       "    <tr>\n",
       "      <th>3</th>\n",
       "      <td>3</td>\n",
       "      <td>1</td>\n",
       "      <td>False</td>\n",
       "      <td>259</td>\n",
       "      <td>2</td>\n",
       "      <td>38.0</td>\n",
       "      <td>0</td>\n",
       "      <td>0.0</td>\n",
       "      <td>6652.0</td>\n",
       "      <td>0.0</td>\n",
       "      <td>181.0</td>\n",
       "      <td>585.0</td>\n",
       "      <td>2711</td>\n",
       "      <td>True</td>\n",
       "    </tr>\n",
       "    <tr>\n",
       "      <th>4</th>\n",
       "      <td>4</td>\n",
       "      <td>0</td>\n",
       "      <td>False</td>\n",
       "      <td>1940</td>\n",
       "      <td>2</td>\n",
       "      <td>20.0</td>\n",
       "      <td>0</td>\n",
       "      <td>10.0</td>\n",
       "      <td>0.0</td>\n",
       "      <td>635.0</td>\n",
       "      <td>0.0</td>\n",
       "      <td>0.0</td>\n",
       "      <td>668</td>\n",
       "      <td>True</td>\n",
       "    </tr>\n",
       "  </tbody>\n",
       "</table>\n",
       "</div>"
      ],
      "text/plain": [
       "   PassengerId  HomePlanet  CryoSleep  Cabin  Destination   Age  VIP  \\\n",
       "0            0           0       True   2784            2  27.0    0   \n",
       "1            1           0      False   1867            2  19.0    0   \n",
       "2            2           1       True    257            0  31.0    0   \n",
       "3            3           1      False    259            2  38.0    0   \n",
       "4            4           0      False   1940            2  20.0    0   \n",
       "\n",
       "   RoomService  FoodCourt  ShoppingMall     Spa  VRDeck  Name  Transported  \n",
       "0          0.0        0.0           0.0     0.0     0.0  2912         True  \n",
       "1          0.0        9.0           0.0  2823.0     0.0  2406        False  \n",
       "2          0.0        0.0           0.0     0.0     0.0  3376         True  \n",
       "3          0.0     6652.0           0.0   181.0   585.0  2711         True  \n",
       "4         10.0        0.0         635.0     0.0     0.0   668         True  "
      ]
     },
     "execution_count": 88,
     "metadata": {},
     "output_type": "execute_result"
    }
   ],
   "source": [
    "test['Transported'] = logreg_cv.predict(X_test)\n",
    "test.head()"
   ]
  },
  {
   "cell_type": "code",
   "execution_count": 95,
   "id": "4987e06c",
   "metadata": {},
   "outputs": [],
   "source": [
    "test = test[['PassengerId','Transported']]"
   ]
  },
  {
   "cell_type": "code",
   "execution_count": 97,
   "id": "c0cbf4e2",
   "metadata": {},
   "outputs": [],
   "source": [
    "test.to_csv('spaceship_titanic_prediction.csv', index = False)"
   ]
  }
 ],
 "metadata": {
  "kernelspec": {
   "display_name": "Python 3 (ipykernel)",
   "language": "python",
   "name": "python3"
  },
  "language_info": {
   "codemirror_mode": {
    "name": "ipython",
    "version": 3
   },
   "file_extension": ".py",
   "mimetype": "text/x-python",
   "name": "python",
   "nbconvert_exporter": "python",
   "pygments_lexer": "ipython3",
   "version": "3.9.12"
  }
 },
 "nbformat": 4,
 "nbformat_minor": 5
}
