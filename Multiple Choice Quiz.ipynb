{
 "cells": [
  {
   "cell_type": "code",
   "execution_count": 7,
   "id": "f569ed4d",
   "metadata": {},
   "outputs": [],
   "source": [
    "class Question:\n",
    "    def __init__(self, prompt, answer):\n",
    "        self.prompt = prompt\n",
    "        self.answer = answer"
   ]
  },
  {
   "cell_type": "code",
   "execution_count": 12,
   "id": "4abf8152",
   "metadata": {},
   "outputs": [
    {
     "name": "stdout",
     "output_type": "stream",
     "text": [
      "Which of these is a corvid?\n",
      "(a) Crow\n",
      "(b) Robin\n",
      "(c) Blue Tit\n",
      "\n",
      "a\n",
      "Which of these is a corvid?\n",
      "(a) Swan\n",
      "(b) Raven\n",
      "(c) Pigeon\n",
      "\n",
      "a\n",
      "Which of these is a corvid?\n",
      "(a) Rook\n",
      "(b) Starling\n",
      "(c) Australian Magpie\n",
      "\n",
      "a\n",
      "You got 2points\n"
     ]
    }
   ],
   "source": [
    "question_prompts = [\n",
    "    \"Which of these is a corvid?\\n(a) Crow\\n(b) Robin\\n(c) Blue Tit\\n\\n\",\n",
    "    \"Which of these is a corvid?\\n(a) Swan\\n(b) Raven\\n(c) Pigeon\\n\\n\",\n",
    "    \"Which of these is a corvid?\\n(a) Rook\\n(b) Starling\\n(c) Australian Magpie\\n\\n\",\n",
    "]\n",
    "\n",
    "questions = [\n",
    "    Question(question_prompts[0], \"a\"),\n",
    "    Question(question_prompts[1], \"b\"),\n",
    "    Question(question_prompts[2], \"a\")\n",
    "]\n",
    "\n",
    "def run_test(questions):\n",
    "    score = 0\n",
    "    for Question in questions:\n",
    "        answer = input(Question.prompt)\n",
    "        if answer == Question.answer:\n",
    "            score += 1\n",
    "    print(\"You got \" + str(score) + \" points\")\n",
    "\n",
    "run_test(questions)"
   ]
  }
 ],
 "metadata": {
  "kernelspec": {
   "display_name": "Python 3 (ipykernel)",
   "language": "python",
   "name": "python3"
  },
  "language_info": {
   "codemirror_mode": {
    "name": "ipython",
    "version": 3
   },
   "file_extension": ".py",
   "mimetype": "text/x-python",
   "name": "python",
   "nbconvert_exporter": "python",
   "pygments_lexer": "ipython3",
   "version": "3.9.12"
  }
 },
 "nbformat": 4,
 "nbformat_minor": 5
}
